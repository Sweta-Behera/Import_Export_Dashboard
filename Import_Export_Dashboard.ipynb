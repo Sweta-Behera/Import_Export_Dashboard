{
 "cells": [
  {
   "cell_type": "markdown",
   "id": "97d315d1-6cc9-469e-8bf9-515e6714f49b",
   "metadata": {},
   "source": [
    "**1. Project Information:**\n",
    "\n",
    "Optimizing Import-Export Performance- Insights and Strategic Analysis | Sweta Behera | 055051"
   ]
  },
  {
   "cell_type": "markdown",
   "id": "1ca1b0dc-cfc0-4624-adc6-f364dd3c32d0",
   "metadata": {},
   "source": [
    "**2. Description of Data**"
   ]
  },
  {
   "cell_type": "markdown",
   "id": "cf3cbfe1-3454-450d-a7e6-14c3eb7cd85e",
   "metadata": {},
   "source": [
    "**2.1. Data Source**"
   ]
  },
  {
   "cell_type": "markdown",
   "id": "bfb25914-f7ef-4870-a5e8-d91db61773c3",
   "metadata": {},
   "source": [
    "This dataset provides detailed information on international trade transactions, capturing both import and export activities. It includes comprehensive data on various aspects of trade, making it a valuable resource for business analysis, economic research, and financial modeling.<br> \n",
    "*Data Source:* \n",
    "https://www.kaggle.com/datasets/chakilamvishwas/imports-exports-15000"
   ]
  },
  {
   "cell_type": "markdown",
   "id": "bfc322b8-4cd4-40ce-8de0-4eb7e3f4564d",
   "metadata": {},
   "source": [
    "This is the dataset of the trade of some countries. These are the columns in the dataset:\n",
    "\n",
    "**Transaction_ID:** A unique identifier for each transaction.\n",
    "\n",
    "**Country:** The country involved in the transaction.\n",
    "\n",
    "**Product:** The product being transacted.\n",
    "\n",
    "**Import_Export:** Whether the transaction is an import or export.\n",
    "\n",
    "**Quantity:** The number of units involved in the transaction.\n",
    "\n",
    "**Value:** The monetary value of the transaction.\n",
    "\n",
    "**Date:** The date the transaction took place.\n",
    "\n",
    "**Category:** The category/type of product.\n",
    "\n",
    "**Port:** The port through which the transaction occurred.\n",
    "\n",
    "**Customs_Code:** A code used for custom purposes.\n",
    "\n",
    "**Weight:** The weight of the goods involved.\n",
    "\n",
    "**Shipping_Method:** The method used for shipping the goods- land, air, sea.\n",
    "\n",
    "**Supplier:** The company or individual supplying the product.\n",
    "\n",
    "**Customer:** The company or individual receiving the product.\n",
    "\n",
    "**Invoice_Number:** The invoice number for the transaction.\n",
    "\n",
    "**Payment_Terms:** The terms of payment agreed upon for the transaction."
   ]
  },
  {
   "cell_type": "markdown",
   "id": "c7d6c3d0-f3b0-4f7c-9385-96926806ca52",
   "metadata": {},
   "source": [
    "**2.2. Data Type: Cross-sectional | Time-series | Panel** "
   ]
  },
  {
   "cell_type": "markdown",
   "id": "f354c993-32a3-4a37-ae38-de59f44d0487",
   "metadata": {},
   "source": [
    "The data represents a snapshot of different transactions (shipments) across countries, product types, and shipment methods at a given time. As there are no dates, this dataset would be considered as **cross-sectional**, where there are multiple transactions across different countries, suppliers, etc., at a specific time or period."
   ]
  },
  {
   "cell_type": "markdown",
   "id": "5148547e-8d7c-404a-8835-5a5d2cd17b49",
   "metadata": {},
   "source": [
    "**2.3. Data Dimension: Number of Variables | Number of Observations**"
   ]
  },
  {
   "cell_type": "markdown",
   "id": "70a06515-ecaa-4f24-92cc-4695c3fc2687",
   "metadata": {},
   "source": [
    "Number of Observations(Rows): 15000, Number of Variables(Columns): 16"
   ]
  },
  {
   "cell_type": "markdown",
   "id": "b62a215b-f705-435c-8a53-fec8686ba18c",
   "metadata": {},
   "source": [
    "**2.4. Data Variable Type: Text | Number {Integer | Decimal}**"
   ]
  },
  {
   "cell_type": "markdown",
   "id": "ad0d8bd1-0a48-42da-93db-1be748cea037",
   "metadata": {},
   "source": [
    " 1.   *Transaction_ID:*   Text (object) \n",
    " 2.   *Country:*          Text (object)\n",
    " 3.   *Product:*          Text (object) \n",
    " 4.  *Import_Export:*     Text (object) \n",
    " 5.  *Quantity:*          Integer (int64) \n",
    " 6.  *Value:*             Decimal (float64)\n",
    " 7.  *Date:*              Date \n",
    " 8.  *Category:*          Text (object) \n",
    " 9.  *Port:*              Text (object) \n",
    " 10. *Customs_Code:*      Integer (int64) \n",
    " 11. *Weight:*            Decimal (float64)\n",
    " 12. *Shipping_Method:*   Text (object) \n",
    " 13. *Supplier:*          Text (object) \n",
    " 14. *Customer:*          Text (object)\n",
    " 15. *Invoice_Number:*    Integer (int64)  \n",
    " 16. *Payment_Terms:*     Text (object)"
   ]
  },
  {
   "cell_type": "markdown",
   "id": "31edc392-d228-4ec9-b756-de001b4c1579",
   "metadata": {},
   "source": [
    "**2.5. Data Variable Category: Index | Categorical {Nominal | Ordinal} | Non-Categorical**"
   ]
  },
  {
   "cell_type": "markdown",
   "id": "dd4ea07d-3652-41f3-89b1-eb917409f358",
   "metadata": {},
   "source": [
    "1. *Index Variables:* Transaction_ID\n",
    "2. *Non-Categorical Variables:* Quantity, Value, Date, Weight\n",
    "3. *Categorical Variables - Nominal Type:* Country, Product, Import_Export, Category, Port, Customs_Code, Shipping_Method, Supplier, Customer, Invoice_Number, Payment_Terms\n",
    "4. *Categorical Variables - Ordinal Type:* None"
   ]
  },
  {
   "cell_type": "markdown",
   "id": "ccfe9709-6dea-4694-8083-3e0e42d34c15",
   "metadata": {},
   "source": [
    "**3. Project Objectives | Problem Statements**"
   ]
  },
  {
   "cell_type": "markdown",
   "id": "fbfd6e2c-553d-41f2-a543-679e0f3b9ba7",
   "metadata": {},
   "source": [
    "The objective of this project is to develop an interactive and insightful dashboard that provides comprehensive financial and operational insights into import and export transactions. The dashboard is designed to assist decision-makers in the logistics, procurement, and finance teams to track performance, identify key patterns, and optimize processes. By analyzing critical metrics such as transaction volume, revenue generation, customer preferences, and product profitability, the project aims to improve strategic decision-making and operational efficiency.<br>\n",
    "The dashboard focuses on the following key metrics:<br>\n",
    "1.\tTotal Number of Transactions: Provides a clear view of the overall business activity by counting the number of import and export transactions over time.<br>\n",
    "2.\tTotal Revenue from Imports and Exports: Highlights the financial performance of imports and exports, helping identify trends in revenue contribution from both channels.<br>\n",
    "3.\tTop 5 Customers by Revenue: Identifies the highest revenue-generating customers, helping the business focus on customer retention strategies.<br>\n",
    "4.\tMost Repeated Customer: Pinpoints the customers with the highest frequency of transactions, which can indicate strong relationships or reliance on certain customers.<br>\n",
    "5.\tMost Preferred Payment Terms: Analyzes the most common payment terms used across transactions, which can guide negotiations and cash flow management.<br>\n",
    "6.\tValue Trend Over Time: Visualizes the financial trends over time, helping to spot revenue fluctuations and seasonality patterns.<br>\n",
    "7.\tTop 10 Trading Countries (by Revenue): Highlights the most lucrative trading partners, allowing management to focus on key markets.<br>\n",
    "8.\tTop 10 Countries by Transaction Count: Displays the countries with the highest number of transactions, offering insights into business activity concentration.<br>\n",
    "9.\tMost Used Shipping Method (By Category): Provides insights into logistics preferences by analyzing the most popular shipping methods across different product categories.<br>\n",
    "10.\tMost Profitable Product Category: Reveals the product categories with the highest profit margins, assisting in inventory and product line decisions."
   ]
  },
  {
   "cell_type": "markdown",
   "id": "f43158ab-f4d9-41a7-bac7-d76010791e1b",
   "metadata": {},
   "source": [
    "**Observations | Findings**"
   ]
  },
  {
   "cell_type": "markdown",
   "id": "1bbed9f2-98a9-4ce7-8013-a8a592965340",
   "metadata": {},
   "source": [
    "1. Import-Export Balance: The chart indicates a slight imbalance between imports and exports, with exports constituting 51.5% and imports comprising 48.5% of the total transactions.<br>\n",
    "Dominance of Exports: This suggests that the organization or region represented by the data has a stronger focus on or performance in export activities compared to imports.<br>\n",
    "2.\t*Customer Insights Observation:*<br>\n",
    "(i) The bar chart represents the top 5 customers by total revenue. Michael Brown leads with the highest revenue contribution of 22,771 units, followed closely by Christopher Smith with 22,528 units. Andrea Turner, Brian Davis, and Christopher Kelly follow with revenue contributions of 17,781, 17,251, and 16,836 units respectively. The differences in revenue among the top customers are significant, highlighting the key players in the overall financial success of the company.<br>\n",
    "(ii) Eric Smith's representation is minimal compared to the overall customer base, highlighting a very low repeat rate for this customer. The vast majority of customers (99.9%) are not repeat customers at the same level, suggesting that customer behavior is likely highly distributed among many different individuals.<br>\n",
    "3.\t*Payment Terms & Financial Insights observation:*<br>\n",
    "(i) The horizontal bar chart shows that \"Net 60\" is the most preferred payment term, with 780 transactions. \"Net 30\" follows closely with 756 transactions, while \"Prepaid\" and \"Cash on Delivery\" have 734 and 731 transactions, respectively.<br>\n",
    "(ii) The line graph shows fluctuations in the total value of transactions over time from 2020 to 2024. There are several peaks and dips, with an overall decline observed in recent months, especially a sharp drop towards 2024.<br>\n",
    "4. *Geographical Insights observation:*<br>\n",
    "(i) Revenue Leaders: Congo and Guadeloupe generate the most revenue, shown by the darkest blue color, while Jersey and Pitcairn Islands contribute the least among the top 10.<br>\n",
    "Diverse Countries: Several small or niche countries like Guinea-Bissau and Dominica are significant revenue generators.<br>\n",
    "(ii) Top Country by Transactions: Congo leads with the highest transaction count (31), while Swaziland and Iceland have the lowest (19 each) among the top 10.<br>\n",
    "Clustered Range: Most countries have transaction counts between 19 and 25, with Congo standing out as an outlier.<br>\n",
    "Countries Involved: Smaller nations like Guinea-Bissau, Dominica, and Pitcairn Islands have higher-than-expected transaction volumes, indicating significant trade activity.<br>\n",
    "5.\t*Product & Shipping Insights observations:*<br>\n",
    "(i)\tTop Performer: Machinery is the most profitable category, generating over 3.2 million in revenue.<br>\n",
    "Other Key Categories: Clothing and Furniture also generate significant revenue, above 3 million and close to it, respectively.<br>\n",
    "Lower Performers: Toys, Electronics, and Furniture generate slightly less revenue, with Toys bringing in the lowest, but still substantial, amounts.<br>\n",
    "(ii) Clothing uses land shipping most (615 shipments), while Toys (576) and Electronics (561) favor air and sea shipping.<br>\n",
    "Accessories (609) are almost evenly split between air and land shipping.<br>\n"
   ]
  },
  {
   "cell_type": "markdown",
   "id": "d16002ab-75ca-4474-bce3-82b14142c737",
   "metadata": {},
   "source": [
    "**Analysis of Data**"
   ]
  },
  {
   "cell_type": "markdown",
   "id": "7c8e864c-3376-44f1-84dc-8687d3cd46ca",
   "metadata": {},
   "source": [
    "The data presented through the dashboard provides a multifaceted view of the organization’s import and export operations, revealing key patterns in customer behavior, financial performance, geographic distribution, and logistical efficiency. By examining these data points, we can gain a deeper understanding of the business's current strengths and areas where strategic adjustments could drive improved outcomes.<br>\n",
    "\n",
    "1. Transaction Balance: Imports vs. Exports<br>\n",
    "The import-export balance reveals a marginal tilt in favor of exports (51.5%) over imports (48.5%). This indicates that the organization is slightly more focused on exporting its goods than importing, which can be interpreted as an outward-facing business model reliant on international demand for its products. This small gap may indicate the company's ability to consistently find buyers abroad, but it may also highlight a vulnerability in sourcing, depending on how critical imports are to the supply chain.<br>\n",
    "The export dominance could also reflect market opportunities or competitive advantages the company holds in foreign markets.<br>\n",
    "\n",
    "2. Customer Behavior and Revenue Contribution<br>\n",
    "The customer distribution data highlights that the company’s revenue is heavily concentrated among its top five customers, with Michael Brown contributing the most. This signals that the business has a few high-value customers who drive a significant portion of revenue. However, the data also shows an extremely low rate of repeat customers—only 0.1%—which is unusual and could be a reflection of either a transactional business model or a lack of retention strategy.<br>\n",
    "The low repeat customer rate suggests the business may not be focusing on long-term customer engagement. This could lead to future revenue instability, as a high reliance on new customer acquisition could be more costly than fostering repeat business.<br>\n",
    "\n",
    "3. Payment Preferences and Financial Trends<br>\n",
    "The analysis of payment terms reveals that longer credit periods, such as “Net 60” and “Net 30,” are favored, while faster payment methods like “Prepaid” or “Cash on Delivery” are less frequently used. This preference for delayed payments may impact cash flow but also reflects the company’s flexibility in accommodating customers’ financial needs.<br>\n",
    "From a financial performance perspective, the fluctuating value trends over time indicate that the company has experienced periods of growth followed by sharp declines, especially nearing 2024. This could point to external market challenges, seasonality, or potential issues within the company such as operational inefficiencies or changes in customer demand. <br>\n",
    "\n",
    "4. Geographical Distribution of Trade Activity<br>\n",
    "Geographic data shows that Congo and Guadeloupe are the largest contributors to revenue, while smaller countries like Guinea-Bissau and Dominica are also notable in their trade volume, despite their niche market status. The inclusion of these smaller nations may suggest a well-diversified geographical reach, which spreads risk across multiple markets.<br>\n",
    "However, this diversity in trading partners, while beneficial in mitigating dependency on major markets, might come with challenges. Smaller or less stable economies could pose risks related to fluctuating demand, currency issues, or logistical complications. The transaction volumes from these smaller countries indicate that while they generate substantial revenue, their trade consistency should be carefully monitored.<br>\n",
    "\n",
    "5. Product Profitability and Shipping Methods<br>\n",
    "The product category analysis reveals that Machinery generates the highest revenue, followed by Clothing and Furniture. These categories are the backbone of the company's profitability. The relatively high profitability across multiple categories also shows a balanced portfolio, reducing the risk of over-reliance on any single product line.<br>\n",
    "From a logistics perspective, shipping methods differ by product category, with Clothing primarily shipped by land, while Toys and Electronics utilize air and sea shipping more frequently. This distinction in shipping methods points to variations in logistics costs, delivery timelines, and product characteristics that influence how goods are moved. This suggests that the company has aligned its logistics with the nature of the products it handles, although there could be further opportunities for cost-saving through logistics optimization."
   ]
  },
  {
   "cell_type": "markdown",
   "id": "4388ad68-a85f-45fe-bf76-531b6fd77917",
   "metadata": {},
   "source": [
    "**Managerial Insights | Recommendations**"
   ]
  },
  {
   "cell_type": "markdown",
   "id": "eadc9681-9cdd-422e-bd24-bb9639124664",
   "metadata": {},
   "source": [
    "1. Export Strategy Optimization: Given the dominance of exports, the organization might consider further optimizing its export strategies to enhance market penetration, increase sales, and strengthen its competitive position in international markets.<br>\n",
    "Import Analysis and Optimization: While exports are leading, it's essential to analyze the import side to identify potential areas for cost reduction, supply chain optimization, or diversification of import sources to mitigate risks.<br>\n",
    "Balance Assessment: The slight imbalance could be a strategic choice or a reflection of market dynamics. It's crucial to assess whether this balance aligns with the organization's overall goals and objectives.<br>\n",
    "\n",
    "2.\tCustomer Insights:<br>\n",
    "(i)\tThe top 5 customers contribute significantly to the company’s revenue, with Michael Brown and Christopher Smith as standout clients. It's important to maintain strong relationships with these customers and perhaps consider loyalty programs or exclusive services to ensure their retention. On the other hand, this also indicates a potential risk of over-reliance on a few major clients. It may be beneficial to diversify the customer base to reduce dependency on these key accounts and safeguard against revenue drops if any of these relationships falter.<br>\n",
    "(ii) Customer Loyalty Focus: With the most repeated customer accounting for only 0.1% of transactions, there's a clear lack of strong customer loyalty. This suggests a need for strategies to improve retention and encourage repeat business.<br>\n",
    "Loyalty Programs: Introducing loyalty or rewards programs could increase the repeat customer base by incentivizing return visits.<br>\n",
    "Personalized Customer Engagement: Investigating factors behind Eric Smith’s repeat purchases can help tailor marketing strategies to encourage similar behavior in others.<br>\n",
    "Customer Experience Improvement: Evaluate the low repeat rate to identify areas for enhancing post-purchase engagement, feedback collection, and overall service quality.<br>\n",
    "\n",
    "3.\tPayment Terms & Financial Insights:<br>\n",
    "(i)\tFlexibility in Payment Terms: The preference for extended payment terms like \"Net 60\" and \"Net 30\" suggests that customers value flexibility. Offering such options can enhance customer satisfaction and potentially attract more business.<br>\n",
    "Encouraging Prepaid or Shorter Terms: While \"Prepaid\" and \"Cash on Delivery\" are less preferred, incentives such as discounts for prepaid transactions could encourage more customers to opt for these quicker payment methods, improving cash flow for the company.<br>\n",
    "(ii) Address Recent Decline: The significant drop in transaction value near 2024 requires immediate investigation. This could be due to external market factors, customer churn, or a reduction in demand. Identifying the root cause is critical to reversing the downward trend.<br>\n",
    "Stabilize Transaction Volumes: Given the overall volatility, efforts should be made to stabilize transaction volumes. This can be achieved through consistent marketing efforts, promotions, or revisiting product or service offerings to better match customer preferences.<br>\n",
    "Leverage Peaks for Growth: Analyze periods of high transaction value to identify successful strategies or seasonal trends that can be replicated to maintain higher transaction volumes throughout the year.<br>\n",
    "\n",
    "4.\tGeographical Insights:<br>\n",
    "(i)\tGrowth Focus: Invest in high-revenue countries like Congo and Guadeloupe for further expansion.<br>\n",
    "Diversification: Trade with smaller nations indicates a broad network, but reliance on these should be monitored for risk.<br>\n",
    "Potential: Low-revenue countries in the top 10 may offer opportunities for optimization or deeper market penetration.<br>\n",
    "(ii) Focus on High Transaction Countries: Congo’s large number of transactions suggests it is a key trade partner. Strengthening business relationships here could yield additional benefits.<br>\n",
    "Diversified Transaction Spread: The relatively balanced transaction distribution across smaller nations may indicate a diversified trade approach, which helps in risk mitigation.<br>\n",
    "Potential for Growth: Countries with moderate transaction volumes, such as Austria and Pitcairn Islands, might present growth opportunities by exploring ways to increase the number of transactions or optimize existing processes.<br>\n",
    "\n",
    "5.\tProduct & Shipping Insights:<br>\n",
    "(i)\tInvestment Focus: Machinery and Clothing, the most profitable categories, should be prioritized for investment, marketing, and product development to sustain and grow profitability.<br>\n",
    "Potential Growth in Lower Categories: Categories like Toys and Electronics, though profitable, lag slightly behind. These could represent opportunities for optimization in pricing, product range, or supply chain to boost revenue.<br>\n",
    "Diversification: The relatively high revenue across all categories shows a well-diversified product portfolio, which reduces dependency on a single category and mitigates risk.<br>\n",
    "(ii) Category-Specific Optimization: Tailor logistics strategies to shipping preferences by category, like optimizing land routes for clothing.\n",
    "Cost-Efficiency: Evaluate the cost and speed of air and sea shipping for toys and electronics, potentially exploring land alternatives.<br>\n",
    "Supply Chain Resilience: Ensure backup plans for air-reliant categories, as they may face delays or cost spikes.\n"
   ]
  },
  {
   "cell_type": "code",
   "execution_count": 291,
   "id": "55e2fcf2-9d4f-4ef3-b286-6e0be6816691",
   "metadata": {},
   "outputs": [],
   "source": [
    "# Importing required libraries\n",
    "import pandas as pd\n",
    "import numpy as np\n",
    "import matplotlib.pyplot as plt"
   ]
  },
  {
   "cell_type": "code",
   "execution_count": 292,
   "id": "655f1c52-b98e-4cce-80cd-f54c3149cd93",
   "metadata": {},
   "outputs": [],
   "source": [
    "# Define File Path, loading & Read Dataset\n",
    "import_export_ds = pd.read_csv(r\"C:\\Users\\Sweta Behera\\OneDrive\\MBA\\MBA\\FORE\\SUBJECT MATERIAL\\TERM 1\\Python\\python term project\\Imports_Exports_Dataset.csv\")"
   ]
  },
  {
   "cell_type": "code",
   "execution_count": 293,
   "id": "17d6ae52-2a2e-49ef-bb10-f9234564fbc0",
   "metadata": {},
   "outputs": [
    {
     "name": "stdout",
     "output_type": "stream",
     "text": [
      "Number of rows: 15000, Number of columns: 16\n"
     ]
    }
   ],
   "source": [
    "# Data Dimension: Number of Variables is the Number of columns | Number of Observations is the Number of rows\n",
    "rows, columns = import_export_ds.shape\n",
    "print(f\"Number of rows: {rows}, Number of columns: {columns}\")"
   ]
  },
  {
   "cell_type": "code",
   "execution_count": 294,
   "id": "5409ba35-bb61-4b0e-8869-817369937dba",
   "metadata": {},
   "outputs": [
    {
     "name": "stdout",
     "output_type": "stream",
     "text": [
      "<class 'pandas.core.frame.DataFrame'>\n",
      "RangeIndex: 15000 entries, 0 to 14999\n",
      "Data columns (total 16 columns):\n",
      " #   Column           Non-Null Count  Dtype  \n",
      "---  ------           --------------  -----  \n",
      " 0   Transaction_ID   15000 non-null  object \n",
      " 1   Country          15000 non-null  object \n",
      " 2   Product          15000 non-null  object \n",
      " 3   Import_Export    15000 non-null  object \n",
      " 4   Quantity         15000 non-null  int64  \n",
      " 5   Value            15000 non-null  float64\n",
      " 6   Date             15000 non-null  object \n",
      " 7   Category         15000 non-null  object \n",
      " 8   Port             15000 non-null  object \n",
      " 9   Customs_Code     15000 non-null  int64  \n",
      " 10  Weight           15000 non-null  float64\n",
      " 11  Shipping_Method  15000 non-null  object \n",
      " 12  Supplier         15000 non-null  object \n",
      " 13  Customer         15000 non-null  object \n",
      " 14  Invoice_Number   15000 non-null  int64  \n",
      " 15  Payment_Terms    15000 non-null  object \n",
      "dtypes: float64(2), int64(3), object(11)\n",
      "memory usage: 1.8+ MB\n"
     ]
    }
   ],
   "source": [
    "# Data Information.\n",
    "import_export_ds.info()"
   ]
  },
  {
   "cell_type": "code",
   "execution_count": 295,
   "id": "21eb285a-d54d-4afd-bfc9-a05834bc6966",
   "metadata": {},
   "outputs": [
    {
     "data": {
      "text/plain": [
       "Index(['Transaction_ID', 'Country', 'Product', 'Import_Export', 'Quantity',\n",
       "       'Value', 'Date', 'Category', 'Port', 'Customs_Code', 'Weight',\n",
       "       'Shipping_Method', 'Supplier', 'Customer', 'Invoice_Number',\n",
       "       'Payment_Terms'],\n",
       "      dtype='object')"
      ]
     },
     "execution_count": 295,
     "metadata": {},
     "output_type": "execute_result"
    }
   ],
   "source": [
    "import_export_ds.columns"
   ]
  },
  {
   "cell_type": "code",
   "execution_count": 296,
   "id": "7820e83f-37b0-467e-bfe4-a71549589b9d",
   "metadata": {},
   "outputs": [],
   "source": [
    "#  Identify & Display the List of following Variables:\n",
    "# a) Index Variables: Transaction_ID\n",
    "# b) Non-Categorical Variables: Quantity, Value, Date, Weight\n",
    "# c) Categorical Variables - Nominal Type: Country, Product, Import_Export, Category, Port, Customs_Code, Shipping_Method, Supplier, Customer, Invoice_Number, Payment_Terms\n",
    "# d) Categorical Variables - Ordinal Type: None"
   ]
  },
  {
   "cell_type": "code",
   "execution_count": 297,
   "id": "20a47b5c-07a4-4cdc-a8a6-b05631e5db98",
   "metadata": {},
   "outputs": [
    {
     "data": {
      "text/html": [
       "<div>\n",
       "<style scoped>\n",
       "    .dataframe tbody tr th:only-of-type {\n",
       "        vertical-align: middle;\n",
       "    }\n",
       "\n",
       "    .dataframe tbody tr th {\n",
       "        vertical-align: top;\n",
       "    }\n",
       "\n",
       "    .dataframe thead th {\n",
       "        text-align: right;\n",
       "    }\n",
       "</style>\n",
       "<table border=\"1\" class=\"dataframe\">\n",
       "  <thead>\n",
       "    <tr style=\"text-align: right;\">\n",
       "      <th></th>\n",
       "      <th>Transaction_ID</th>\n",
       "      <th>Country</th>\n",
       "      <th>Product</th>\n",
       "      <th>Import_Export</th>\n",
       "      <th>Quantity</th>\n",
       "      <th>Value</th>\n",
       "      <th>Date</th>\n",
       "      <th>Category</th>\n",
       "      <th>Port</th>\n",
       "      <th>Customs_Code</th>\n",
       "      <th>Weight</th>\n",
       "      <th>Shipping_Method</th>\n",
       "      <th>Supplier</th>\n",
       "      <th>Customer</th>\n",
       "      <th>Invoice_Number</th>\n",
       "      <th>Payment_Terms</th>\n",
       "    </tr>\n",
       "  </thead>\n",
       "  <tbody>\n",
       "    <tr>\n",
       "      <th>14266</th>\n",
       "      <td>a355dbaa-b95b-4396-aa42-b49fdd6cec36</td>\n",
       "      <td>Lesotho</td>\n",
       "      <td>sell</td>\n",
       "      <td>Export</td>\n",
       "      <td>2204</td>\n",
       "      <td>9104.96</td>\n",
       "      <td>02-02-2022</td>\n",
       "      <td>Furniture</td>\n",
       "      <td>Port Sally</td>\n",
       "      <td>151618</td>\n",
       "      <td>2102.77</td>\n",
       "      <td>Sea</td>\n",
       "      <td>Miller-Cruz</td>\n",
       "      <td>Jonathan Wiley</td>\n",
       "      <td>81006547</td>\n",
       "      <td>Cash on Delivery</td>\n",
       "    </tr>\n",
       "    <tr>\n",
       "      <th>13714</th>\n",
       "      <td>c1b28a8f-b891-4946-85cf-fc8e22fcbc41</td>\n",
       "      <td>Costa Rica</td>\n",
       "      <td>perhaps</td>\n",
       "      <td>Import</td>\n",
       "      <td>1151</td>\n",
       "      <td>4857.13</td>\n",
       "      <td>24-10-2021</td>\n",
       "      <td>Machinery</td>\n",
       "      <td>Lake Teresaside</td>\n",
       "      <td>558315</td>\n",
       "      <td>4141.63</td>\n",
       "      <td>Land</td>\n",
       "      <td>Perez-Schmidt</td>\n",
       "      <td>Paul Herrera</td>\n",
       "      <td>90892429</td>\n",
       "      <td>Cash on Delivery</td>\n",
       "    </tr>\n",
       "    <tr>\n",
       "      <th>14013</th>\n",
       "      <td>7bfea09e-236b-41c3-bec3-7e0678fece5f</td>\n",
       "      <td>Gambia</td>\n",
       "      <td>break</td>\n",
       "      <td>Import</td>\n",
       "      <td>1633</td>\n",
       "      <td>9336.13</td>\n",
       "      <td>29-12-2019</td>\n",
       "      <td>Furniture</td>\n",
       "      <td>New William</td>\n",
       "      <td>464720</td>\n",
       "      <td>3222.63</td>\n",
       "      <td>Sea</td>\n",
       "      <td>Ryan-Sims</td>\n",
       "      <td>Curtis Williams</td>\n",
       "      <td>954485</td>\n",
       "      <td>Cash on Delivery</td>\n",
       "    </tr>\n",
       "    <tr>\n",
       "      <th>11148</th>\n",
       "      <td>782289c2-4947-4754-926e-870c74e660a0</td>\n",
       "      <td>Bosnia and Herzegovina</td>\n",
       "      <td>conference</td>\n",
       "      <td>Import</td>\n",
       "      <td>3676</td>\n",
       "      <td>1356.63</td>\n",
       "      <td>28-03-2023</td>\n",
       "      <td>Clothing</td>\n",
       "      <td>New Julie</td>\n",
       "      <td>174467</td>\n",
       "      <td>1568.54</td>\n",
       "      <td>Sea</td>\n",
       "      <td>Scott, Lopez and Stevenson</td>\n",
       "      <td>Nathan Berg</td>\n",
       "      <td>2879649</td>\n",
       "      <td>Net 60</td>\n",
       "    </tr>\n",
       "    <tr>\n",
       "      <th>8196</th>\n",
       "      <td>aa7ce24e-25f2-4d0d-ab1e-a8949994dde6</td>\n",
       "      <td>Algeria</td>\n",
       "      <td>operation</td>\n",
       "      <td>Export</td>\n",
       "      <td>674</td>\n",
       "      <td>1400.30</td>\n",
       "      <td>05-08-2020</td>\n",
       "      <td>Electronics</td>\n",
       "      <td>East Charlesport</td>\n",
       "      <td>659350</td>\n",
       "      <td>2509.95</td>\n",
       "      <td>Air</td>\n",
       "      <td>Arellano-Cruz</td>\n",
       "      <td>Theresa Carter</td>\n",
       "      <td>93295216</td>\n",
       "      <td>Cash on Delivery</td>\n",
       "    </tr>\n",
       "  </tbody>\n",
       "</table>\n",
       "</div>"
      ],
      "text/plain": [
       "                             Transaction_ID                 Country  \\\n",
       "14266  a355dbaa-b95b-4396-aa42-b49fdd6cec36                 Lesotho   \n",
       "13714  c1b28a8f-b891-4946-85cf-fc8e22fcbc41              Costa Rica   \n",
       "14013  7bfea09e-236b-41c3-bec3-7e0678fece5f                  Gambia   \n",
       "11148  782289c2-4947-4754-926e-870c74e660a0  Bosnia and Herzegovina   \n",
       "8196   aa7ce24e-25f2-4d0d-ab1e-a8949994dde6                 Algeria   \n",
       "\n",
       "          Product Import_Export  Quantity    Value        Date     Category  \\\n",
       "14266        sell        Export      2204  9104.96  02-02-2022    Furniture   \n",
       "13714     perhaps        Import      1151  4857.13  24-10-2021    Machinery   \n",
       "14013       break        Import      1633  9336.13  29-12-2019    Furniture   \n",
       "11148  conference        Import      3676  1356.63  28-03-2023     Clothing   \n",
       "8196    operation        Export       674  1400.30  05-08-2020  Electronics   \n",
       "\n",
       "                   Port  Customs_Code   Weight Shipping_Method  \\\n",
       "14266        Port Sally        151618  2102.77             Sea   \n",
       "13714   Lake Teresaside        558315  4141.63            Land   \n",
       "14013       New William        464720  3222.63             Sea   \n",
       "11148         New Julie        174467  1568.54             Sea   \n",
       "8196   East Charlesport        659350  2509.95             Air   \n",
       "\n",
       "                         Supplier         Customer  Invoice_Number  \\\n",
       "14266                 Miller-Cruz   Jonathan Wiley        81006547   \n",
       "13714               Perez-Schmidt     Paul Herrera        90892429   \n",
       "14013                   Ryan-Sims  Curtis Williams          954485   \n",
       "11148  Scott, Lopez and Stevenson      Nathan Berg         2879649   \n",
       "8196                Arellano-Cruz   Theresa Carter        93295216   \n",
       "\n",
       "          Payment_Terms  \n",
       "14266  Cash on Delivery  \n",
       "13714  Cash on Delivery  \n",
       "14013  Cash on Delivery  \n",
       "11148            Net 60  \n",
       "8196   Cash on Delivery  "
      ]
     },
     "execution_count": 297,
     "metadata": {},
     "output_type": "execute_result"
    }
   ],
   "source": [
    "#taking a sample out of the population\n",
    "sdset = import_export_ds.sample(n = 3001, random_state = 55051)\n",
    "sdset.head()"
   ]
  },
  {
   "cell_type": "code",
   "execution_count": 298,
   "id": "9ffa9c14-6aa3-4ba4-85b8-c8321f53979d",
   "metadata": {},
   "outputs": [
    {
     "data": {
      "text/plain": [
       "(3001, 16)"
      ]
     },
     "execution_count": 298,
     "metadata": {},
     "output_type": "execute_result"
    }
   ],
   "source": [
    "sdset.shape"
   ]
  },
  {
   "cell_type": "code",
   "execution_count": 299,
   "id": "0a0ded87-6347-408e-b503-d4ed2ce414d1",
   "metadata": {},
   "outputs": [
    {
     "name": "stdout",
     "output_type": "stream",
     "text": [
      "<class 'pandas.core.frame.DataFrame'>\n",
      "Index: 3001 entries, 14266 to 4406\n",
      "Data columns (total 16 columns):\n",
      " #   Column           Non-Null Count  Dtype  \n",
      "---  ------           --------------  -----  \n",
      " 0   Transaction_ID   3001 non-null   object \n",
      " 1   Country          3001 non-null   object \n",
      " 2   Product          3001 non-null   object \n",
      " 3   Import_Export    3001 non-null   object \n",
      " 4   Quantity         3001 non-null   int64  \n",
      " 5   Value            3001 non-null   float64\n",
      " 6   Date             3001 non-null   object \n",
      " 7   Category         3001 non-null   object \n",
      " 8   Port             3001 non-null   object \n",
      " 9   Customs_Code     3001 non-null   int64  \n",
      " 10  Weight           3001 non-null   float64\n",
      " 11  Shipping_Method  3001 non-null   object \n",
      " 12  Supplier         3001 non-null   object \n",
      " 13  Customer         3001 non-null   object \n",
      " 14  Invoice_Number   3001 non-null   int64  \n",
      " 15  Payment_Terms    3001 non-null   object \n",
      "dtypes: float64(2), int64(3), object(11)\n",
      "memory usage: 398.6+ KB\n"
     ]
    }
   ],
   "source": [
    "sdset.info()"
   ]
  },
  {
   "cell_type": "code",
   "execution_count": 300,
   "id": "0b2eada7-b17a-4665-b9ee-498c02b75cf8",
   "metadata": {},
   "outputs": [
    {
     "data": {
      "text/html": [
       "<div>\n",
       "<style scoped>\n",
       "    .dataframe tbody tr th:only-of-type {\n",
       "        vertical-align: middle;\n",
       "    }\n",
       "\n",
       "    .dataframe tbody tr th {\n",
       "        vertical-align: top;\n",
       "    }\n",
       "\n",
       "    .dataframe thead th {\n",
       "        text-align: right;\n",
       "    }\n",
       "</style>\n",
       "<table border=\"1\" class=\"dataframe\">\n",
       "  <thead>\n",
       "    <tr style=\"text-align: right;\">\n",
       "      <th></th>\n",
       "      <th>Quantity</th>\n",
       "      <th>Value</th>\n",
       "      <th>Weight</th>\n",
       "    </tr>\n",
       "  </thead>\n",
       "  <tbody>\n",
       "    <tr>\n",
       "      <th>count</th>\n",
       "      <td>3001.000000</td>\n",
       "      <td>3001.000000</td>\n",
       "      <td>3001.000000</td>\n",
       "    </tr>\n",
       "    <tr>\n",
       "      <th>mean</th>\n",
       "      <td>5045.153282</td>\n",
       "      <td>5012.959587</td>\n",
       "      <td>2486.520610</td>\n",
       "    </tr>\n",
       "    <tr>\n",
       "      <th>std</th>\n",
       "      <td>2904.173210</td>\n",
       "      <td>2865.873694</td>\n",
       "      <td>1455.379418</td>\n",
       "    </tr>\n",
       "    <tr>\n",
       "      <th>min</th>\n",
       "      <td>8.000000</td>\n",
       "      <td>102.120000</td>\n",
       "      <td>1.520000</td>\n",
       "    </tr>\n",
       "    <tr>\n",
       "      <th>25%</th>\n",
       "      <td>2558.000000</td>\n",
       "      <td>2517.120000</td>\n",
       "      <td>1221.740000</td>\n",
       "    </tr>\n",
       "    <tr>\n",
       "      <th>50%</th>\n",
       "      <td>4998.000000</td>\n",
       "      <td>5020.620000</td>\n",
       "      <td>2466.620000</td>\n",
       "    </tr>\n",
       "    <tr>\n",
       "      <th>75%</th>\n",
       "      <td>7571.000000</td>\n",
       "      <td>7504.540000</td>\n",
       "      <td>3755.630000</td>\n",
       "    </tr>\n",
       "    <tr>\n",
       "      <th>max</th>\n",
       "      <td>9994.000000</td>\n",
       "      <td>9999.130000</td>\n",
       "      <td>4999.520000</td>\n",
       "    </tr>\n",
       "  </tbody>\n",
       "</table>\n",
       "</div>"
      ],
      "text/plain": [
       "          Quantity        Value       Weight\n",
       "count  3001.000000  3001.000000  3001.000000\n",
       "mean   5045.153282  5012.959587  2486.520610\n",
       "std    2904.173210  2865.873694  1455.379418\n",
       "min       8.000000   102.120000     1.520000\n",
       "25%    2558.000000  2517.120000  1221.740000\n",
       "50%    4998.000000  5020.620000  2466.620000\n",
       "75%    7571.000000  7504.540000  3755.630000\n",
       "max    9994.000000  9999.130000  4999.520000"
      ]
     },
     "execution_count": 300,
     "metadata": {},
     "output_type": "execute_result"
    }
   ],
   "source": [
    "#subsetting the non categorical variables\n",
    "ncat = sdset[['Quantity', 'Value', 'Weight']]\n",
    "\n",
    "# displaying the descriptive statistics of the non categoriial data\n",
    "ncat.describe()"
   ]
  },
  {
   "cell_type": "code",
   "execution_count": 301,
   "id": "8be8d372-3f3c-4e76-a286-e867d0f77ce6",
   "metadata": {},
   "outputs": [
    {
     "data": {
      "text/plain": [
       "count           3001\n",
       "unique          1491\n",
       "top       08-11-2021\n",
       "freq               7\n",
       "Name: Date, dtype: object"
      ]
     },
     "execution_count": 301,
     "metadata": {},
     "output_type": "execute_result"
    }
   ],
   "source": [
    "#descriptive statistics for non-categorical data: Date\n",
    "sdset['Date'].describe()"
   ]
  },
  {
   "cell_type": "code",
   "execution_count": 302,
   "id": "d8fd7424-ce17-4b21-bc5e-9b7c01d237ee",
   "metadata": {},
   "outputs": [
    {
     "data": {
      "text/html": [
       "<div>\n",
       "<style scoped>\n",
       "    .dataframe tbody tr th:only-of-type {\n",
       "        vertical-align: middle;\n",
       "    }\n",
       "\n",
       "    .dataframe tbody tr th {\n",
       "        vertical-align: top;\n",
       "    }\n",
       "\n",
       "    .dataframe thead th {\n",
       "        text-align: right;\n",
       "    }\n",
       "</style>\n",
       "<table border=\"1\" class=\"dataframe\">\n",
       "  <thead>\n",
       "    <tr style=\"text-align: right;\">\n",
       "      <th></th>\n",
       "      <th>Country</th>\n",
       "      <th>Product</th>\n",
       "      <th>Import_Export</th>\n",
       "      <th>Category</th>\n",
       "      <th>Port</th>\n",
       "      <th>Customs_Code</th>\n",
       "      <th>Shipping_Method</th>\n",
       "      <th>Supplier</th>\n",
       "      <th>Customer</th>\n",
       "      <th>Invoice_Number</th>\n",
       "      <th>Payment_Terms</th>\n",
       "    </tr>\n",
       "  </thead>\n",
       "  <tbody>\n",
       "    <tr>\n",
       "      <th>14266</th>\n",
       "      <td>Lesotho</td>\n",
       "      <td>sell</td>\n",
       "      <td>Export</td>\n",
       "      <td>Furniture</td>\n",
       "      <td>Port Sally</td>\n",
       "      <td>151618</td>\n",
       "      <td>Sea</td>\n",
       "      <td>Miller-Cruz</td>\n",
       "      <td>Jonathan Wiley</td>\n",
       "      <td>81006547</td>\n",
       "      <td>Cash on Delivery</td>\n",
       "    </tr>\n",
       "    <tr>\n",
       "      <th>13714</th>\n",
       "      <td>Costa Rica</td>\n",
       "      <td>perhaps</td>\n",
       "      <td>Import</td>\n",
       "      <td>Machinery</td>\n",
       "      <td>Lake Teresaside</td>\n",
       "      <td>558315</td>\n",
       "      <td>Land</td>\n",
       "      <td>Perez-Schmidt</td>\n",
       "      <td>Paul Herrera</td>\n",
       "      <td>90892429</td>\n",
       "      <td>Cash on Delivery</td>\n",
       "    </tr>\n",
       "    <tr>\n",
       "      <th>14013</th>\n",
       "      <td>Gambia</td>\n",
       "      <td>break</td>\n",
       "      <td>Import</td>\n",
       "      <td>Furniture</td>\n",
       "      <td>New William</td>\n",
       "      <td>464720</td>\n",
       "      <td>Sea</td>\n",
       "      <td>Ryan-Sims</td>\n",
       "      <td>Curtis Williams</td>\n",
       "      <td>954485</td>\n",
       "      <td>Cash on Delivery</td>\n",
       "    </tr>\n",
       "    <tr>\n",
       "      <th>11148</th>\n",
       "      <td>Bosnia and Herzegovina</td>\n",
       "      <td>conference</td>\n",
       "      <td>Import</td>\n",
       "      <td>Clothing</td>\n",
       "      <td>New Julie</td>\n",
       "      <td>174467</td>\n",
       "      <td>Sea</td>\n",
       "      <td>Scott, Lopez and Stevenson</td>\n",
       "      <td>Nathan Berg</td>\n",
       "      <td>2879649</td>\n",
       "      <td>Net 60</td>\n",
       "    </tr>\n",
       "    <tr>\n",
       "      <th>8196</th>\n",
       "      <td>Algeria</td>\n",
       "      <td>operation</td>\n",
       "      <td>Export</td>\n",
       "      <td>Electronics</td>\n",
       "      <td>East Charlesport</td>\n",
       "      <td>659350</td>\n",
       "      <td>Air</td>\n",
       "      <td>Arellano-Cruz</td>\n",
       "      <td>Theresa Carter</td>\n",
       "      <td>93295216</td>\n",
       "      <td>Cash on Delivery</td>\n",
       "    </tr>\n",
       "    <tr>\n",
       "      <th>...</th>\n",
       "      <td>...</td>\n",
       "      <td>...</td>\n",
       "      <td>...</td>\n",
       "      <td>...</td>\n",
       "      <td>...</td>\n",
       "      <td>...</td>\n",
       "      <td>...</td>\n",
       "      <td>...</td>\n",
       "      <td>...</td>\n",
       "      <td>...</td>\n",
       "      <td>...</td>\n",
       "    </tr>\n",
       "    <tr>\n",
       "      <th>9786</th>\n",
       "      <td>Heard Island and McDonald Islands</td>\n",
       "      <td>model</td>\n",
       "      <td>Import</td>\n",
       "      <td>Electronics</td>\n",
       "      <td>South Tami</td>\n",
       "      <td>331142</td>\n",
       "      <td>Air</td>\n",
       "      <td>Gray, Davis and Schaefer</td>\n",
       "      <td>Allison Howard</td>\n",
       "      <td>42116579</td>\n",
       "      <td>Prepaid</td>\n",
       "    </tr>\n",
       "    <tr>\n",
       "      <th>1869</th>\n",
       "      <td>Mexico</td>\n",
       "      <td>about</td>\n",
       "      <td>Export</td>\n",
       "      <td>Electronics</td>\n",
       "      <td>Port Gabrieltown</td>\n",
       "      <td>147628</td>\n",
       "      <td>Sea</td>\n",
       "      <td>Cooper Group</td>\n",
       "      <td>Crystal Vazquez</td>\n",
       "      <td>15454445</td>\n",
       "      <td>Cash on Delivery</td>\n",
       "    </tr>\n",
       "    <tr>\n",
       "      <th>7508</th>\n",
       "      <td>Christmas Island</td>\n",
       "      <td>writer</td>\n",
       "      <td>Import</td>\n",
       "      <td>Electronics</td>\n",
       "      <td>Port Matthew</td>\n",
       "      <td>126058</td>\n",
       "      <td>Land</td>\n",
       "      <td>Gillespie, Norman and Garcia</td>\n",
       "      <td>Heather Ortiz</td>\n",
       "      <td>10021457</td>\n",
       "      <td>Net 60</td>\n",
       "    </tr>\n",
       "    <tr>\n",
       "      <th>9963</th>\n",
       "      <td>Syrian Arab Republic</td>\n",
       "      <td>amount</td>\n",
       "      <td>Import</td>\n",
       "      <td>Toys</td>\n",
       "      <td>Ashleyfort</td>\n",
       "      <td>354037</td>\n",
       "      <td>Land</td>\n",
       "      <td>Montes and Sons</td>\n",
       "      <td>Christine Edwards</td>\n",
       "      <td>25621623</td>\n",
       "      <td>Net 60</td>\n",
       "    </tr>\n",
       "    <tr>\n",
       "      <th>4406</th>\n",
       "      <td>Colombia</td>\n",
       "      <td>example</td>\n",
       "      <td>Import</td>\n",
       "      <td>Clothing</td>\n",
       "      <td>Stephenland</td>\n",
       "      <td>378544</td>\n",
       "      <td>Air</td>\n",
       "      <td>Craig Ltd</td>\n",
       "      <td>Samantha Salinas</td>\n",
       "      <td>84344552</td>\n",
       "      <td>Prepaid</td>\n",
       "    </tr>\n",
       "  </tbody>\n",
       "</table>\n",
       "<p>3001 rows × 11 columns</p>\n",
       "</div>"
      ],
      "text/plain": [
       "                                 Country     Product Import_Export  \\\n",
       "14266                            Lesotho        sell        Export   \n",
       "13714                         Costa Rica     perhaps        Import   \n",
       "14013                             Gambia       break        Import   \n",
       "11148             Bosnia and Herzegovina  conference        Import   \n",
       "8196                             Algeria   operation        Export   \n",
       "...                                  ...         ...           ...   \n",
       "9786   Heard Island and McDonald Islands       model        Import   \n",
       "1869                              Mexico       about        Export   \n",
       "7508                    Christmas Island      writer        Import   \n",
       "9963                Syrian Arab Republic      amount        Import   \n",
       "4406                            Colombia     example        Import   \n",
       "\n",
       "          Category              Port  Customs_Code Shipping_Method  \\\n",
       "14266    Furniture        Port Sally        151618             Sea   \n",
       "13714    Machinery   Lake Teresaside        558315            Land   \n",
       "14013    Furniture       New William        464720             Sea   \n",
       "11148     Clothing         New Julie        174467             Sea   \n",
       "8196   Electronics  East Charlesport        659350             Air   \n",
       "...            ...               ...           ...             ...   \n",
       "9786   Electronics        South Tami        331142             Air   \n",
       "1869   Electronics  Port Gabrieltown        147628             Sea   \n",
       "7508   Electronics      Port Matthew        126058            Land   \n",
       "9963          Toys        Ashleyfort        354037            Land   \n",
       "4406      Clothing       Stephenland        378544             Air   \n",
       "\n",
       "                           Supplier           Customer  Invoice_Number  \\\n",
       "14266                   Miller-Cruz     Jonathan Wiley        81006547   \n",
       "13714                 Perez-Schmidt       Paul Herrera        90892429   \n",
       "14013                     Ryan-Sims    Curtis Williams          954485   \n",
       "11148    Scott, Lopez and Stevenson        Nathan Berg         2879649   \n",
       "8196                  Arellano-Cruz     Theresa Carter        93295216   \n",
       "...                             ...                ...             ...   \n",
       "9786       Gray, Davis and Schaefer     Allison Howard        42116579   \n",
       "1869                   Cooper Group    Crystal Vazquez        15454445   \n",
       "7508   Gillespie, Norman and Garcia      Heather Ortiz        10021457   \n",
       "9963                Montes and Sons  Christine Edwards        25621623   \n",
       "4406                      Craig Ltd   Samantha Salinas        84344552   \n",
       "\n",
       "          Payment_Terms  \n",
       "14266  Cash on Delivery  \n",
       "13714  Cash on Delivery  \n",
       "14013  Cash on Delivery  \n",
       "11148            Net 60  \n",
       "8196   Cash on Delivery  \n",
       "...                 ...  \n",
       "9786            Prepaid  \n",
       "1869   Cash on Delivery  \n",
       "7508             Net 60  \n",
       "9963             Net 60  \n",
       "4406            Prepaid  \n",
       "\n",
       "[3001 rows x 11 columns]"
      ]
     },
     "execution_count": 302,
     "metadata": {},
     "output_type": "execute_result"
    }
   ],
   "source": [
    "#subseting the categorical data \n",
    "cat = sdset[['Country', 'Product', 'Import_Export', 'Category', 'Port', 'Customs_Code', 'Shipping_Method', 'Supplier', 'Customer', 'Invoice_Number', 'Payment_Terms']]\n",
    "cat"
   ]
  },
  {
   "cell_type": "code",
   "execution_count": 303,
   "id": "5e4dafe6-50e3-4d63-9048-90d0c2968d5e",
   "metadata": {},
   "outputs": [
    {
     "data": {
      "text/html": [
       "<div>\n",
       "<style scoped>\n",
       "    .dataframe tbody tr th:only-of-type {\n",
       "        vertical-align: middle;\n",
       "    }\n",
       "\n",
       "    .dataframe tbody tr th {\n",
       "        vertical-align: top;\n",
       "    }\n",
       "\n",
       "    .dataframe thead th {\n",
       "        text-align: right;\n",
       "    }\n",
       "</style>\n",
       "<table border=\"1\" class=\"dataframe\">\n",
       "  <thead>\n",
       "    <tr style=\"text-align: right;\">\n",
       "      <th></th>\n",
       "      <th>Country</th>\n",
       "      <th>Product</th>\n",
       "      <th>Category</th>\n",
       "      <th>Port</th>\n",
       "      <th>Customs_Code</th>\n",
       "      <th>Shipping_Method</th>\n",
       "      <th>Supplier</th>\n",
       "      <th>Customer</th>\n",
       "      <th>Invoice_Number</th>\n",
       "      <th>Payment_Terms</th>\n",
       "    </tr>\n",
       "    <tr>\n",
       "      <th>Import_Export</th>\n",
       "      <th></th>\n",
       "      <th></th>\n",
       "      <th></th>\n",
       "      <th></th>\n",
       "      <th></th>\n",
       "      <th></th>\n",
       "      <th></th>\n",
       "      <th></th>\n",
       "      <th></th>\n",
       "      <th></th>\n",
       "    </tr>\n",
       "  </thead>\n",
       "  <tbody>\n",
       "    <tr>\n",
       "      <th>Export</th>\n",
       "      <td>1454</td>\n",
       "      <td>1454</td>\n",
       "      <td>1454</td>\n",
       "      <td>1454</td>\n",
       "      <td>1454</td>\n",
       "      <td>1454</td>\n",
       "      <td>1454</td>\n",
       "      <td>1454</td>\n",
       "      <td>1454</td>\n",
       "      <td>1454</td>\n",
       "    </tr>\n",
       "    <tr>\n",
       "      <th>Import</th>\n",
       "      <td>1547</td>\n",
       "      <td>1547</td>\n",
       "      <td>1547</td>\n",
       "      <td>1547</td>\n",
       "      <td>1547</td>\n",
       "      <td>1547</td>\n",
       "      <td>1547</td>\n",
       "      <td>1547</td>\n",
       "      <td>1547</td>\n",
       "      <td>1547</td>\n",
       "    </tr>\n",
       "  </tbody>\n",
       "</table>\n",
       "</div>"
      ],
      "text/plain": [
       "               Country  Product  Category  Port  Customs_Code  \\\n",
       "Import_Export                                                   \n",
       "Export            1454     1454      1454  1454          1454   \n",
       "Import            1547     1547      1547  1547          1547   \n",
       "\n",
       "               Shipping_Method  Supplier  Customer  Invoice_Number  \\\n",
       "Import_Export                                                        \n",
       "Export                    1454      1454      1454            1454   \n",
       "Import                    1547      1547      1547            1547   \n",
       "\n",
       "               Payment_Terms  \n",
       "Import_Export                 \n",
       "Export                  1454  \n",
       "Import                  1547  "
      ]
     },
     "execution_count": 303,
     "metadata": {},
     "output_type": "execute_result"
    }
   ],
   "source": [
    "#descriptive statistics for categorical data: Import_Export\n",
    "cat_IE= cat.groupby('Import_Export').count()\n",
    "cat_IE"
   ]
  },
  {
   "cell_type": "markdown",
   "id": "f72d7bd0-72df-44eb-8c1d-07f635ec76a6",
   "metadata": {},
   "source": [
    "**Total Number of Transactions:**"
   ]
  },
  {
   "cell_type": "code",
   "execution_count": 305,
   "id": "d44768bb-b83e-4e9d-9b70-7398d976a995",
   "metadata": {},
   "outputs": [
    {
     "data": {
      "application/vnd.plotly.v1+json": {
       "config": {
        "plotlyServerURL": "https://plot.ly"
       },
       "data": [
        {
         "hole": 0.4,
         "labels": [
          "Import",
          "Export"
         ],
         "marker": {
          "colors": [
           "lightblue",
           "lightgreen"
          ]
         },
         "type": "pie",
         "values": [
          1547,
          1454
         ]
        }
       ],
       "layout": {
        "autosize": true,
        "template": {
         "data": {
          "bar": [
           {
            "error_x": {
             "color": "#2a3f5f"
            },
            "error_y": {
             "color": "#2a3f5f"
            },
            "marker": {
             "line": {
              "color": "#E5ECF6",
              "width": 0.5
             },
             "pattern": {
              "fillmode": "overlay",
              "size": 10,
              "solidity": 0.2
             }
            },
            "type": "bar"
           }
          ],
          "barpolar": [
           {
            "marker": {
             "line": {
              "color": "#E5ECF6",
              "width": 0.5
             },
             "pattern": {
              "fillmode": "overlay",
              "size": 10,
              "solidity": 0.2
             }
            },
            "type": "barpolar"
           }
          ],
          "carpet": [
           {
            "aaxis": {
             "endlinecolor": "#2a3f5f",
             "gridcolor": "white",
             "linecolor": "white",
             "minorgridcolor": "white",
             "startlinecolor": "#2a3f5f"
            },
            "baxis": {
             "endlinecolor": "#2a3f5f",
             "gridcolor": "white",
             "linecolor": "white",
             "minorgridcolor": "white",
             "startlinecolor": "#2a3f5f"
            },
            "type": "carpet"
           }
          ],
          "choropleth": [
           {
            "colorbar": {
             "outlinewidth": 0,
             "ticks": ""
            },
            "type": "choropleth"
           }
          ],
          "contour": [
           {
            "colorbar": {
             "outlinewidth": 0,
             "ticks": ""
            },
            "colorscale": [
             [
              0,
              "#0d0887"
             ],
             [
              0.1111111111111111,
              "#46039f"
             ],
             [
              0.2222222222222222,
              "#7201a8"
             ],
             [
              0.3333333333333333,
              "#9c179e"
             ],
             [
              0.4444444444444444,
              "#bd3786"
             ],
             [
              0.5555555555555556,
              "#d8576b"
             ],
             [
              0.6666666666666666,
              "#ed7953"
             ],
             [
              0.7777777777777778,
              "#fb9f3a"
             ],
             [
              0.8888888888888888,
              "#fdca26"
             ],
             [
              1,
              "#f0f921"
             ]
            ],
            "type": "contour"
           }
          ],
          "contourcarpet": [
           {
            "colorbar": {
             "outlinewidth": 0,
             "ticks": ""
            },
            "type": "contourcarpet"
           }
          ],
          "heatmap": [
           {
            "colorbar": {
             "outlinewidth": 0,
             "ticks": ""
            },
            "colorscale": [
             [
              0,
              "#0d0887"
             ],
             [
              0.1111111111111111,
              "#46039f"
             ],
             [
              0.2222222222222222,
              "#7201a8"
             ],
             [
              0.3333333333333333,
              "#9c179e"
             ],
             [
              0.4444444444444444,
              "#bd3786"
             ],
             [
              0.5555555555555556,
              "#d8576b"
             ],
             [
              0.6666666666666666,
              "#ed7953"
             ],
             [
              0.7777777777777778,
              "#fb9f3a"
             ],
             [
              0.8888888888888888,
              "#fdca26"
             ],
             [
              1,
              "#f0f921"
             ]
            ],
            "type": "heatmap"
           }
          ],
          "heatmapgl": [
           {
            "colorbar": {
             "outlinewidth": 0,
             "ticks": ""
            },
            "colorscale": [
             [
              0,
              "#0d0887"
             ],
             [
              0.1111111111111111,
              "#46039f"
             ],
             [
              0.2222222222222222,
              "#7201a8"
             ],
             [
              0.3333333333333333,
              "#9c179e"
             ],
             [
              0.4444444444444444,
              "#bd3786"
             ],
             [
              0.5555555555555556,
              "#d8576b"
             ],
             [
              0.6666666666666666,
              "#ed7953"
             ],
             [
              0.7777777777777778,
              "#fb9f3a"
             ],
             [
              0.8888888888888888,
              "#fdca26"
             ],
             [
              1,
              "#f0f921"
             ]
            ],
            "type": "heatmapgl"
           }
          ],
          "histogram": [
           {
            "marker": {
             "pattern": {
              "fillmode": "overlay",
              "size": 10,
              "solidity": 0.2
             }
            },
            "type": "histogram"
           }
          ],
          "histogram2d": [
           {
            "colorbar": {
             "outlinewidth": 0,
             "ticks": ""
            },
            "colorscale": [
             [
              0,
              "#0d0887"
             ],
             [
              0.1111111111111111,
              "#46039f"
             ],
             [
              0.2222222222222222,
              "#7201a8"
             ],
             [
              0.3333333333333333,
              "#9c179e"
             ],
             [
              0.4444444444444444,
              "#bd3786"
             ],
             [
              0.5555555555555556,
              "#d8576b"
             ],
             [
              0.6666666666666666,
              "#ed7953"
             ],
             [
              0.7777777777777778,
              "#fb9f3a"
             ],
             [
              0.8888888888888888,
              "#fdca26"
             ],
             [
              1,
              "#f0f921"
             ]
            ],
            "type": "histogram2d"
           }
          ],
          "histogram2dcontour": [
           {
            "colorbar": {
             "outlinewidth": 0,
             "ticks": ""
            },
            "colorscale": [
             [
              0,
              "#0d0887"
             ],
             [
              0.1111111111111111,
              "#46039f"
             ],
             [
              0.2222222222222222,
              "#7201a8"
             ],
             [
              0.3333333333333333,
              "#9c179e"
             ],
             [
              0.4444444444444444,
              "#bd3786"
             ],
             [
              0.5555555555555556,
              "#d8576b"
             ],
             [
              0.6666666666666666,
              "#ed7953"
             ],
             [
              0.7777777777777778,
              "#fb9f3a"
             ],
             [
              0.8888888888888888,
              "#fdca26"
             ],
             [
              1,
              "#f0f921"
             ]
            ],
            "type": "histogram2dcontour"
           }
          ],
          "mesh3d": [
           {
            "colorbar": {
             "outlinewidth": 0,
             "ticks": ""
            },
            "type": "mesh3d"
           }
          ],
          "parcoords": [
           {
            "line": {
             "colorbar": {
              "outlinewidth": 0,
              "ticks": ""
             }
            },
            "type": "parcoords"
           }
          ],
          "pie": [
           {
            "automargin": true,
            "type": "pie"
           }
          ],
          "scatter": [
           {
            "fillpattern": {
             "fillmode": "overlay",
             "size": 10,
             "solidity": 0.2
            },
            "type": "scatter"
           }
          ],
          "scatter3d": [
           {
            "line": {
             "colorbar": {
              "outlinewidth": 0,
              "ticks": ""
             }
            },
            "marker": {
             "colorbar": {
              "outlinewidth": 0,
              "ticks": ""
             }
            },
            "type": "scatter3d"
           }
          ],
          "scattercarpet": [
           {
            "marker": {
             "colorbar": {
              "outlinewidth": 0,
              "ticks": ""
             }
            },
            "type": "scattercarpet"
           }
          ],
          "scattergeo": [
           {
            "marker": {
             "colorbar": {
              "outlinewidth": 0,
              "ticks": ""
             }
            },
            "type": "scattergeo"
           }
          ],
          "scattergl": [
           {
            "marker": {
             "colorbar": {
              "outlinewidth": 0,
              "ticks": ""
             }
            },
            "type": "scattergl"
           }
          ],
          "scattermapbox": [
           {
            "marker": {
             "colorbar": {
              "outlinewidth": 0,
              "ticks": ""
             }
            },
            "type": "scattermapbox"
           }
          ],
          "scatterpolar": [
           {
            "marker": {
             "colorbar": {
              "outlinewidth": 0,
              "ticks": ""
             }
            },
            "type": "scatterpolar"
           }
          ],
          "scatterpolargl": [
           {
            "marker": {
             "colorbar": {
              "outlinewidth": 0,
              "ticks": ""
             }
            },
            "type": "scatterpolargl"
           }
          ],
          "scatterternary": [
           {
            "marker": {
             "colorbar": {
              "outlinewidth": 0,
              "ticks": ""
             }
            },
            "type": "scatterternary"
           }
          ],
          "surface": [
           {
            "colorbar": {
             "outlinewidth": 0,
             "ticks": ""
            },
            "colorscale": [
             [
              0,
              "#0d0887"
             ],
             [
              0.1111111111111111,
              "#46039f"
             ],
             [
              0.2222222222222222,
              "#7201a8"
             ],
             [
              0.3333333333333333,
              "#9c179e"
             ],
             [
              0.4444444444444444,
              "#bd3786"
             ],
             [
              0.5555555555555556,
              "#d8576b"
             ],
             [
              0.6666666666666666,
              "#ed7953"
             ],
             [
              0.7777777777777778,
              "#fb9f3a"
             ],
             [
              0.8888888888888888,
              "#fdca26"
             ],
             [
              1,
              "#f0f921"
             ]
            ],
            "type": "surface"
           }
          ],
          "table": [
           {
            "cells": {
             "fill": {
              "color": "#EBF0F8"
             },
             "line": {
              "color": "white"
             }
            },
            "header": {
             "fill": {
              "color": "#C8D4E3"
             },
             "line": {
              "color": "white"
             }
            },
            "type": "table"
           }
          ]
         },
         "layout": {
          "annotationdefaults": {
           "arrowcolor": "#2a3f5f",
           "arrowhead": 0,
           "arrowwidth": 1
          },
          "autotypenumbers": "strict",
          "coloraxis": {
           "colorbar": {
            "outlinewidth": 0,
            "ticks": ""
           }
          },
          "colorscale": {
           "diverging": [
            [
             0,
             "#8e0152"
            ],
            [
             0.1,
             "#c51b7d"
            ],
            [
             0.2,
             "#de77ae"
            ],
            [
             0.3,
             "#f1b6da"
            ],
            [
             0.4,
             "#fde0ef"
            ],
            [
             0.5,
             "#f7f7f7"
            ],
            [
             0.6,
             "#e6f5d0"
            ],
            [
             0.7,
             "#b8e186"
            ],
            [
             0.8,
             "#7fbc41"
            ],
            [
             0.9,
             "#4d9221"
            ],
            [
             1,
             "#276419"
            ]
           ],
           "sequential": [
            [
             0,
             "#0d0887"
            ],
            [
             0.1111111111111111,
             "#46039f"
            ],
            [
             0.2222222222222222,
             "#7201a8"
            ],
            [
             0.3333333333333333,
             "#9c179e"
            ],
            [
             0.4444444444444444,
             "#bd3786"
            ],
            [
             0.5555555555555556,
             "#d8576b"
            ],
            [
             0.6666666666666666,
             "#ed7953"
            ],
            [
             0.7777777777777778,
             "#fb9f3a"
            ],
            [
             0.8888888888888888,
             "#fdca26"
            ],
            [
             1,
             "#f0f921"
            ]
           ],
           "sequentialminus": [
            [
             0,
             "#0d0887"
            ],
            [
             0.1111111111111111,
             "#46039f"
            ],
            [
             0.2222222222222222,
             "#7201a8"
            ],
            [
             0.3333333333333333,
             "#9c179e"
            ],
            [
             0.4444444444444444,
             "#bd3786"
            ],
            [
             0.5555555555555556,
             "#d8576b"
            ],
            [
             0.6666666666666666,
             "#ed7953"
            ],
            [
             0.7777777777777778,
             "#fb9f3a"
            ],
            [
             0.8888888888888888,
             "#fdca26"
            ],
            [
             1,
             "#f0f921"
            ]
           ]
          },
          "colorway": [
           "#636efa",
           "#EF553B",
           "#00cc96",
           "#ab63fa",
           "#FFA15A",
           "#19d3f3",
           "#FF6692",
           "#B6E880",
           "#FF97FF",
           "#FECB52"
          ],
          "font": {
           "color": "#2a3f5f"
          },
          "geo": {
           "bgcolor": "white",
           "lakecolor": "white",
           "landcolor": "#E5ECF6",
           "showlakes": true,
           "showland": true,
           "subunitcolor": "white"
          },
          "hoverlabel": {
           "align": "left"
          },
          "hovermode": "closest",
          "mapbox": {
           "style": "light"
          },
          "paper_bgcolor": "white",
          "plot_bgcolor": "#E5ECF6",
          "polar": {
           "angularaxis": {
            "gridcolor": "white",
            "linecolor": "white",
            "ticks": ""
           },
           "bgcolor": "#E5ECF6",
           "radialaxis": {
            "gridcolor": "white",
            "linecolor": "white",
            "ticks": ""
           }
          },
          "scene": {
           "xaxis": {
            "backgroundcolor": "#E5ECF6",
            "gridcolor": "white",
            "gridwidth": 2,
            "linecolor": "white",
            "showbackground": true,
            "ticks": "",
            "zerolinecolor": "white"
           },
           "yaxis": {
            "backgroundcolor": "#E5ECF6",
            "gridcolor": "white",
            "gridwidth": 2,
            "linecolor": "white",
            "showbackground": true,
            "ticks": "",
            "zerolinecolor": "white"
           },
           "zaxis": {
            "backgroundcolor": "#E5ECF6",
            "gridcolor": "white",
            "gridwidth": 2,
            "linecolor": "white",
            "showbackground": true,
            "ticks": "",
            "zerolinecolor": "white"
           }
          },
          "shapedefaults": {
           "line": {
            "color": "#2a3f5f"
           }
          },
          "ternary": {
           "aaxis": {
            "gridcolor": "white",
            "linecolor": "white",
            "ticks": ""
           },
           "baxis": {
            "gridcolor": "white",
            "linecolor": "white",
            "ticks": ""
           },
           "bgcolor": "#E5ECF6",
           "caxis": {
            "gridcolor": "white",
            "linecolor": "white",
            "ticks": ""
           }
          },
          "title": {
           "x": 0.05
          },
          "xaxis": {
           "automargin": true,
           "gridcolor": "white",
           "linecolor": "white",
           "ticks": "",
           "title": {
            "standoff": 15
           },
           "zerolinecolor": "white",
           "zerolinewidth": 2
          },
          "yaxis": {
           "automargin": true,
           "gridcolor": "white",
           "linecolor": "white",
           "ticks": "",
           "title": {
            "standoff": 15
           },
           "zerolinecolor": "white",
           "zerolinewidth": 2
          }
         }
        },
        "title": {
         "text": "Total Number of Transactions: Imports vs Exports"
        }
       }
      },
      "image/png": "[encoded data removed]",
      "text/html": [
       "<div>                            <div id=\"d698ec57-3e0f-43dc-84a3-2659f24312f6\" class=\"plotly-graph-div\" style=\"height:525px; width:100%;\"></div>            <script type=\"text/javascript\">                require([\"plotly\"], function(Plotly) {                    window.PLOTLYENV=window.PLOTLYENV || {};                                    if (document.getElementById(\"d698ec57-3e0f-43dc-84a3-2659f24312f6\")) {                    Plotly.newPlot(                        \"d698ec57-3e0f-43dc-84a3-2659f24312f6\",                        [{\"hole\":0.4,\"labels\":[\"Import\",\"Export\"],\"values\":[1547,1454],\"type\":\"pie\",\"marker\":{\"colors\":[\"lightblue\",\"lightgreen\"]}}],                        {\"template\":{\"data\":{\"histogram2dcontour\":[{\"type\":\"histogram2dcontour\",\"colorbar\":{\"outlinewidth\":0,\"ticks\":\"\"},\"colorscale\":[[0.0,\"#0d0887\"],[0.1111111111111111,\"#46039f\"],[0.2222222222222222,\"#7201a8\"],[0.3333333333333333,\"#9c179e\"],[0.4444444444444444,\"#bd3786\"],[0.5555555555555556,\"#d8576b\"],[0.6666666666666666,\"#ed7953\"],[0.7777777777777778,\"#fb9f3a\"],[0.8888888888888888,\"#fdca26\"],[1.0,\"#f0f921\"]]}],\"choropleth\":[{\"type\":\"choropleth\",\"colorbar\":{\"outlinewidth\":0,\"ticks\":\"\"}}],\"histogram2d\":[{\"type\":\"histogram2d\",\"colorbar\":{\"outlinewidth\":0,\"ticks\":\"\"},\"colorscale\":[[0.0,\"#0d0887\"],[0.1111111111111111,\"#46039f\"],[0.2222222222222222,\"#7201a8\"],[0.3333333333333333,\"#9c179e\"],[0.4444444444444444,\"#bd3786\"],[0.5555555555555556,\"#d8576b\"],[0.6666666666666666,\"#ed7953\"],[0.7777777777777778,\"#fb9f3a\"],[0.8888888888888888,\"#fdca26\"],[1.0,\"#f0f921\"]]}],\"heatmap\":[{\"type\":\"heatmap\",\"colorbar\":{\"outlinewidth\":0,\"ticks\":\"\"},\"colorscale\":[[0.0,\"#0d0887\"],[0.1111111111111111,\"#46039f\"],[0.2222222222222222,\"#7201a8\"],[0.3333333333333333,\"#9c179e\"],[0.4444444444444444,\"#bd3786\"],[0.5555555555555556,\"#d8576b\"],[0.6666666666666666,\"#ed7953\"],[0.7777777777777778,\"#fb9f3a\"],[0.8888888888888888,\"#fdca26\"],[1.0,\"#f0f921\"]]}],\"heatmapgl\":[{\"type\":\"heatmapgl\",\"colorbar\":{\"outlinewidth\":0,\"ticks\":\"\"},\"colorscale\":[[0.0,\"#0d0887\"],[0.1111111111111111,\"#46039f\"],[0.2222222222222222,\"#7201a8\"],[0.3333333333333333,\"#9c179e\"],[0.4444444444444444,\"#bd3786\"],[0.5555555555555556,\"#d8576b\"],[0.6666666666666666,\"#ed7953\"],[0.7777777777777778,\"#fb9f3a\"],[0.8888888888888888,\"#fdca26\"],[1.0,\"#f0f921\"]]}],\"contourcarpet\":[{\"type\":\"contourcarpet\",\"colorbar\":{\"outlinewidth\":0,\"ticks\":\"\"}}],\"contour\":[{\"type\":\"contour\",\"colorbar\":{\"outlinewidth\":0,\"ticks\":\"\"},\"colorscale\":[[0.0,\"#0d0887\"],[0.1111111111111111,\"#46039f\"],[0.2222222222222222,\"#7201a8\"],[0.3333333333333333,\"#9c179e\"],[0.4444444444444444,\"#bd3786\"],[0.5555555555555556,\"#d8576b\"],[0.6666666666666666,\"#ed7953\"],[0.7777777777777778,\"#fb9f3a\"],[0.8888888888888888,\"#fdca26\"],[1.0,\"#f0f921\"]]}],\"surface\":[{\"type\":\"surface\",\"colorbar\":{\"outlinewidth\":0,\"ticks\":\"\"},\"colorscale\":[[0.0,\"#0d0887\"],[0.1111111111111111,\"#46039f\"],[0.2222222222222222,\"#7201a8\"],[0.3333333333333333,\"#9c179e\"],[0.4444444444444444,\"#bd3786\"],[0.5555555555555556,\"#d8576b\"],[0.6666666666666666,\"#ed7953\"],[0.7777777777777778,\"#fb9f3a\"],[0.8888888888888888,\"#fdca26\"],[1.0,\"#f0f921\"]]}],\"mesh3d\":[{\"type\":\"mesh3d\",\"colorbar\":{\"outlinewidth\":0,\"ticks\":\"\"}}],\"scatter\":[{\"fillpattern\":{\"fillmode\":\"overlay\",\"size\":10,\"solidity\":0.2},\"type\":\"scatter\"}],\"parcoords\":[{\"type\":\"parcoords\",\"line\":{\"colorbar\":{\"outlinewidth\":0,\"ticks\":\"\"}}}],\"scatterpolargl\":[{\"type\":\"scatterpolargl\",\"marker\":{\"colorbar\":{\"outlinewidth\":0,\"ticks\":\"\"}}}],\"bar\":[{\"error_x\":{\"color\":\"#2a3f5f\"},\"error_y\":{\"color\":\"#2a3f5f\"},\"marker\":{\"line\":{\"color\":\"#E5ECF6\",\"width\":0.5},\"pattern\":{\"fillmode\":\"overlay\",\"size\":10,\"solidity\":0.2}},\"type\":\"bar\"}],\"scattergeo\":[{\"type\":\"scattergeo\",\"marker\":{\"colorbar\":{\"outlinewidth\":0,\"ticks\":\"\"}}}],\"scatterpolar\":[{\"type\":\"scatterpolar\",\"marker\":{\"colorbar\":{\"outlinewidth\":0,\"ticks\":\"\"}}}],\"histogram\":[{\"marker\":{\"pattern\":{\"fillmode\":\"overlay\",\"size\":10,\"solidity\":0.2}},\"type\":\"histogram\"}],\"scattergl\":[{\"type\":\"scattergl\",\"marker\":{\"colorbar\":{\"outlinewidth\":0,\"ticks\":\"\"}}}],\"scatter3d\":[{\"type\":\"scatter3d\",\"line\":{\"colorbar\":{\"outlinewidth\":0,\"ticks\":\"\"}},\"marker\":{\"colorbar\":{\"outlinewidth\":0,\"ticks\":\"\"}}}],\"scattermapbox\":[{\"type\":\"scattermapbox\",\"marker\":{\"colorbar\":{\"outlinewidth\":0,\"ticks\":\"\"}}}],\"scatterternary\":[{\"type\":\"scatterternary\",\"marker\":{\"colorbar\":{\"outlinewidth\":0,\"ticks\":\"\"}}}],\"scattercarpet\":[{\"type\":\"scattercarpet\",\"marker\":{\"colorbar\":{\"outlinewidth\":0,\"ticks\":\"\"}}}],\"carpet\":[{\"aaxis\":{\"endlinecolor\":\"#2a3f5f\",\"gridcolor\":\"white\",\"linecolor\":\"white\",\"minorgridcolor\":\"white\",\"startlinecolor\":\"#2a3f5f\"},\"baxis\":{\"endlinecolor\":\"#2a3f5f\",\"gridcolor\":\"white\",\"linecolor\":\"white\",\"minorgridcolor\":\"white\",\"startlinecolor\":\"#2a3f5f\"},\"type\":\"carpet\"}],\"table\":[{\"cells\":{\"fill\":{\"color\":\"#EBF0F8\"},\"line\":{\"color\":\"white\"}},\"header\":{\"fill\":{\"color\":\"#C8D4E3\"},\"line\":{\"color\":\"white\"}},\"type\":\"table\"}],\"barpolar\":[{\"marker\":{\"line\":{\"color\":\"#E5ECF6\",\"width\":0.5},\"pattern\":{\"fillmode\":\"overlay\",\"size\":10,\"solidity\":0.2}},\"type\":\"barpolar\"}],\"pie\":[{\"automargin\":true,\"type\":\"pie\"}]},\"layout\":{\"autotypenumbers\":\"strict\",\"colorway\":[\"#636efa\",\"#EF553B\",\"#00cc96\",\"#ab63fa\",\"#FFA15A\",\"#19d3f3\",\"#FF6692\",\"#B6E880\",\"#FF97FF\",\"#FECB52\"],\"font\":{\"color\":\"#2a3f5f\"},\"hovermode\":\"closest\",\"hoverlabel\":{\"align\":\"left\"},\"paper_bgcolor\":\"white\",\"plot_bgcolor\":\"#E5ECF6\",\"polar\":{\"bgcolor\":\"#E5ECF6\",\"angularaxis\":{\"gridcolor\":\"white\",\"linecolor\":\"white\",\"ticks\":\"\"},\"radialaxis\":{\"gridcolor\":\"white\",\"linecolor\":\"white\",\"ticks\":\"\"}},\"ternary\":{\"bgcolor\":\"#E5ECF6\",\"aaxis\":{\"gridcolor\":\"white\",\"linecolor\":\"white\",\"ticks\":\"\"},\"baxis\":{\"gridcolor\":\"white\",\"linecolor\":\"white\",\"ticks\":\"\"},\"caxis\":{\"gridcolor\":\"white\",\"linecolor\":\"white\",\"ticks\":\"\"}},\"coloraxis\":{\"colorbar\":{\"outlinewidth\":0,\"ticks\":\"\"}},\"colorscale\":{\"sequential\":[[0.0,\"#0d0887\"],[0.1111111111111111,\"#46039f\"],[0.2222222222222222,\"#7201a8\"],[0.3333333333333333,\"#9c179e\"],[0.4444444444444444,\"#bd3786\"],[0.5555555555555556,\"#d8576b\"],[0.6666666666666666,\"#ed7953\"],[0.7777777777777778,\"#fb9f3a\"],[0.8888888888888888,\"#fdca26\"],[1.0,\"#f0f921\"]],\"sequentialminus\":[[0.0,\"#0d0887\"],[0.1111111111111111,\"#46039f\"],[0.2222222222222222,\"#7201a8\"],[0.3333333333333333,\"#9c179e\"],[0.4444444444444444,\"#bd3786\"],[0.5555555555555556,\"#d8576b\"],[0.6666666666666666,\"#ed7953\"],[0.7777777777777778,\"#fb9f3a\"],[0.8888888888888888,\"#fdca26\"],[1.0,\"#f0f921\"]],\"diverging\":[[0,\"#8e0152\"],[0.1,\"#c51b7d\"],[0.2,\"#de77ae\"],[0.3,\"#f1b6da\"],[0.4,\"#fde0ef\"],[0.5,\"#f7f7f7\"],[0.6,\"#e6f5d0\"],[0.7,\"#b8e186\"],[0.8,\"#7fbc41\"],[0.9,\"#4d9221\"],[1,\"#276419\"]]},\"xaxis\":{\"gridcolor\":\"white\",\"linecolor\":\"white\",\"ticks\":\"\",\"title\":{\"standoff\":15},\"zerolinecolor\":\"white\",\"automargin\":true,\"zerolinewidth\":2},\"yaxis\":{\"gridcolor\":\"white\",\"linecolor\":\"white\",\"ticks\":\"\",\"title\":{\"standoff\":15},\"zerolinecolor\":\"white\",\"automargin\":true,\"zerolinewidth\":2},\"scene\":{\"xaxis\":{\"backgroundcolor\":\"#E5ECF6\",\"gridcolor\":\"white\",\"linecolor\":\"white\",\"showbackground\":true,\"ticks\":\"\",\"zerolinecolor\":\"white\",\"gridwidth\":2},\"yaxis\":{\"backgroundcolor\":\"#E5ECF6\",\"gridcolor\":\"white\",\"linecolor\":\"white\",\"showbackground\":true,\"ticks\":\"\",\"zerolinecolor\":\"white\",\"gridwidth\":2},\"zaxis\":{\"backgroundcolor\":\"#E5ECF6\",\"gridcolor\":\"white\",\"linecolor\":\"white\",\"showbackground\":true,\"ticks\":\"\",\"zerolinecolor\":\"white\",\"gridwidth\":2}},\"shapedefaults\":{\"line\":{\"color\":\"#2a3f5f\"}},\"annotationdefaults\":{\"arrowcolor\":\"#2a3f5f\",\"arrowhead\":0,\"arrowwidth\":1},\"geo\":{\"bgcolor\":\"white\",\"landcolor\":\"#E5ECF6\",\"subunitcolor\":\"white\",\"showland\":true,\"showlakes\":true,\"lakecolor\":\"white\"},\"title\":{\"x\":0.05},\"mapbox\":{\"style\":\"light\"}}},\"title\":{\"text\":\"Total Number of Transactions: Imports vs Exports\"}},                        {\"responsive\": true}                    ).then(function(){\n",
       "                            \n",
       "var gd = document.getElementById('d698ec57-3e0f-43dc-84a3-2659f24312f6');\n",
       "var x = new MutationObserver(function (mutations, observer) {{\n",
       "        var display = window.getComputedStyle(gd).display;\n",
       "        if (!display || display === 'none') {{\n",
       "            console.log([gd, 'removed!']);\n",
       "            Plotly.purge(gd);\n",
       "            observer.disconnect();\n",
       "        }}\n",
       "}});\n",
       "\n",
       "// Listen for the removal of the full notebook cells\n",
       "var notebookContainer = gd.closest('#notebook-container');\n",
       "if (notebookContainer) {{\n",
       "    x.observe(notebookContainer, {childList: true});\n",
       "}}\n",
       "\n",
       "// Listen for the clearing of the current output cell\n",
       "var outputEl = gd.closest('.output');\n",
       "if (outputEl) {{\n",
       "    x.observe(outputEl, {childList: true});\n",
       "}}\n",
       "\n",
       "                        })                };                });            </script>        </div>"
      ]
     },
     "metadata": {},
     "output_type": "display_data"
    }
   ],
   "source": [
    "import plotly.graph_objects as go\n",
    "\n",
    "# Preparing data for Donut chart\n",
    "transaction_count = sdset['Import_Export'].value_counts()\n",
    "\n",
    "# Creating Donut chart\n",
    "fig = go.Figure(data=[go.Pie(labels=transaction_count.index, values=transaction_count.values, hole=.4)])\n",
    "fig.update_traces(marker=dict(colors=['lightblue', 'lightgreen']))\n",
    "fig.update_layout(title_text='Total Number of Transactions: Imports vs Exports')\n",
    "fig.show()"
   ]
  },
  {
   "cell_type": "markdown",
   "id": "85c275d8-cbc1-48e4-8b7d-fc52e58d4adb",
   "metadata": {},
   "source": [
    "**Total Revenue from Imports and Exports:**"
   ]
  },
  {
   "cell_type": "code",
   "execution_count": 307,
   "id": "44443cfa-4f95-426a-aab1-8ab360461dde",
   "metadata": {},
   "outputs": [
    {
     "data": {
      "image/png": "[encoded data removed]",
      "text/plain": [
       "<Figure size 800x500 with 1 Axes>"
      ]
     },
     "metadata": {},
     "output_type": "display_data"
    }
   ],
   "source": [
    "# Calculating total revenue for Imports and Exports\n",
    "revenue_data = sdset.groupby('Import_Export')['Value'].sum().reset_index()\n",
    "\n",
    "# Calculating the total revenue for percentage calculation\n",
    "total_revenue = revenue_data['Value'].sum()\n",
    "\n",
    "# Calculating percentages\n",
    "revenue_data['Percentage'] = (revenue_data['Value'] / total_revenue) * 100\n",
    "\n",
    "# Plotting the total revenue using Matplotlib\n",
    "plt.figure(figsize=(8, 5))\n",
    "bars = plt.bar(revenue_data['Import_Export'], revenue_data['Value'], color=['blue', 'green'])\n",
    "\n",
    "# Adding labels and title\n",
    "plt.xlabel('Category (Imports/Exports)')\n",
    "plt.ylabel('Total Revenue')\n",
    "plt.title('Total Revenue from Imports and Exports')\n",
    "\n",
    "# Adding percentage labels on top of the bars\n",
    "for bar, percentage in zip(bars, revenue_data['Percentage']):\n",
    "    yval = bar.get_height()\n",
    "    plt.text(bar.get_x() + bar.get_width()/2, yval, f'{percentage:.1f}%', ha='center', va='bottom')\n",
    "\n",
    "# Show the plot\n",
    "plt.xticks(rotation=0)  \n",
    "plt.show()"
   ]
  },
  {
   "cell_type": "markdown",
   "id": "d17c0ae9-a52b-48c3-92de-3a3927e5a9b6",
   "metadata": {},
   "source": [
    "***Customer Insights***"
   ]
  },
  {
   "cell_type": "markdown",
   "id": "45499d96-2d6c-44fe-b8a3-5d675c1e1d1b",
   "metadata": {},
   "source": [
    "**Top 5 Customers by Revenue:**"
   ]
  },
  {
   "cell_type": "code",
   "execution_count": 310,
   "id": "41f77cef-5d0b-46c5-bf2e-ea28801f33a6",
   "metadata": {},
   "outputs": [
    {
     "data": {
      "image/png": "[encoded data removed]",
      "text/plain": [
       "<Figure size 1000x600 with 1 Axes>"
      ]
     },
     "metadata": {},
     "output_type": "display_data"
    }
   ],
   "source": [
    "# Group by customer and sum the value\n",
    "top_customers = sdset.groupby('Customer')['Value'].sum().reset_index()\n",
    "\n",
    "# Sorting the customers by value and get the top 5\n",
    "top_customers = top_customers.sort_values(by='Value', ascending=False).head(5)\n",
    "\n",
    "# Ploting the top 5 customers using Matplotlib\n",
    "plt.figure(figsize=(10, 6))\n",
    "bars = plt.bar(top_customers['Customer'], top_customers['Value'], color='orange')\n",
    "\n",
    "# Adding labels and title\n",
    "plt.xlabel('Customer')\n",
    "plt.ylabel('Total Revenue')\n",
    "plt.title('Top 5 Customers by Revenue')\n",
    "\n",
    "# Adding value labels on top of the bars\n",
    "for bar in bars:\n",
    "    yval = bar.get_height()\n",
    "    plt.text(bar.get_x() + bar.get_width()/2, yval, f'{yval:.0f}', ha='center', va='bottom')\n",
    "\n",
    "# Show the plot\n",
    "plt.xticks(rotation=45)  # Rotate x labels for better readability\n",
    "plt.show()"
   ]
  },
  {
   "cell_type": "markdown",
   "id": "449546f0-dcc7-4243-b2d5-d60c901b3bdb",
   "metadata": {},
   "source": [
    "**Most Repeated Customer:**"
   ]
  },
  {
   "cell_type": "code",
   "execution_count": 312,
   "id": "cf68f3cc-06cc-47d1-9e03-24e2a4a0b125",
   "metadata": {},
   "outputs": [
    {
     "data": {
      "image/png": "[encoded data removed]",
      "text/plain": [
       "<Figure size 800x800 with 1 Axes>"
      ]
     },
     "metadata": {},
     "output_type": "display_data"
    }
   ],
   "source": [
    "# Group by customer and count the occurrences\n",
    "customer_counts = sdset['Customer'].value_counts()\n",
    "\n",
    "# Getting the most repeated customer\n",
    "most_repeated_customer = customer_counts.head(1)\n",
    "other_customers_count = customer_counts.sum() - most_repeated_customer.values[0]\n",
    "\n",
    "# Preparing data for pie chart\n",
    "labels = [most_repeated_customer.index[0], 'Other Customers']\n",
    "sizes = [most_repeated_customer.values[0], other_customers_count]\n",
    "colors = ['gold', 'lightcoral']\n",
    "explode = (0.1, 0)  # explode the most repeated customer slice\n",
    "\n",
    "# Plotting the pie chart\n",
    "plt.figure(figsize=(8, 8))\n",
    "plt.pie(sizes, explode=explode, labels=labels, colors=colors,\n",
    "        autopct='%1.1f%%', shadow=True, startangle=140)\n",
    "\n",
    "# Adding title\n",
    "plt.title('Most Repeated Customer vs Other Customers')\n",
    "\n",
    "# Show the plot\n",
    "plt.axis('equal')  # Equal aspect ratio ensures that pie is drawn as a circle.\n",
    "plt.show()"
   ]
  },
  {
   "cell_type": "markdown",
   "id": "c1d3f9f8-af24-4a2f-a4d0-2a298565d2ee",
   "metadata": {},
   "source": [
    "***Payment Terms & Financial Insights***"
   ]
  },
  {
   "cell_type": "markdown",
   "id": "b250db20-4e61-44a9-b079-a8295b1020b7",
   "metadata": {},
   "source": [
    "**Most Preferred Payment Terms:**"
   ]
  },
  {
   "cell_type": "code",
   "execution_count": 315,
   "id": "fcb68121-87fc-4905-8e0e-bb697845505b",
   "metadata": {},
   "outputs": [
    {
     "data": {
      "image/png": "[encoded data removed]",
      "text/plain": [
       "<Figure size 1000x600 with 1 Axes>"
      ]
     },
     "metadata": {},
     "output_type": "display_data"
    }
   ],
   "source": [
    "# Group by payment terms and count occurrences\n",
    "payment_terms_counts = sdset['Payment_Terms'].value_counts()\n",
    "\n",
    "# Preparing data for the horizontal bar chart\n",
    "payment_terms = payment_terms_counts.index\n",
    "counts = payment_terms_counts.values\n",
    "\n",
    "# Plotting the horizontal bar chart\n",
    "plt.figure(figsize=(10, 6))\n",
    "bars = plt.barh(payment_terms, counts, color='skyblue')\n",
    "\n",
    "# Adding labels and title\n",
    "plt.xlabel('Number of Transactions')\n",
    "plt.ylabel('Payment Terms')\n",
    "plt.title('Most Preferred Payment Terms')\n",
    "\n",
    "# Adding value labels on the bars\n",
    "for bar in bars:\n",
    "    plt.text(bar.get_width(), bar.get_y() + bar.get_height()/2, \n",
    "             f'{bar.get_width()}', ha='left', va='center')\n",
    "\n",
    "# Show the plot\n",
    "plt.show()"
   ]
  },
  {
   "cell_type": "markdown",
   "id": "5280740d-01a4-4b8a-b26a-1a6602920fd4",
   "metadata": {},
   "source": [
    "**Value Trend Over Time:**"
   ]
  },
  {
   "cell_type": "code",
   "execution_count": 318,
   "id": "f5e1dfd4-30c9-454e-9311-41c022e4b7fa",
   "metadata": {},
   "outputs": [
    {
     "data": {
      "image/png": "[encoded data removed]",
      "text/plain": [
       "<Figure size 1000x600 with 1 Axes>"
      ]
     },
     "metadata": {},
     "output_type": "display_data"
    }
   ],
   "source": [
    "# What is the trend of total Value of transactions over time?\n",
    "sdset['Date'] = pd.to_datetime(sdset['Date'], dayfirst=True)\n",
    "\n",
    "# Group by month or year and sum up the 'Value'\n",
    "total_value_over_time = sdset.groupby(sdset['Date'].dt.to_period('M'))['Value'].sum()\n",
    "\n",
    "# Plot the line graph\n",
    "total_value_over_time.plot(kind='line', figsize=(10, 6), title='Total Value of Transactions Over Time')\n",
    "plt.xlabel('Time (Monthly)')\n",
    "plt.ylabel('Total Value')\n",
    "plt.show()\n"
   ]
  },
  {
   "cell_type": "markdown",
   "id": "aed0686f-9375-4e5e-b8ce-fed03fc3bba4",
   "metadata": {},
   "source": [
    "***Geographic Insights***"
   ]
  },
  {
   "cell_type": "markdown",
   "id": "55cd4793-e4c7-44c0-8af5-5b7ded48371e",
   "metadata": {},
   "source": [
    "**Top 10 Trading Countries (by Revenue):**"
   ]
  },
  {
   "cell_type": "code",
   "execution_count": 320,
   "id": "2aa33a1d-8531-4aef-af24-196cd51a8db5",
   "metadata": {
    "scrolled": true
   },
   "outputs": [
    {
     "data": {
      "application/vnd.plotly.v1+json": {
       "config": {
        "plotlyServerURL": "https://plot.ly"
       },
       "data": [
        {
         "branchvalues": "total",
         "customdata": [
          [
           105536.52
          ],
          [
           102412.96
          ],
          [
           136314.5
          ],
          [
           128579.3
          ],
          [
           135628.85
          ],
          [
           133790.47
          ],
          [
           97002.06999999999
          ],
          [
           95335.2
          ],
          [
           105609.1
          ],
          [
           114364.94
          ]
         ],
         "domain": {
          "x": [
           0,
           1
          ],
          "y": [
           0,
           1
          ]
         },
         "hovertemplate": "labels=%{label}<br>Value_sum=%{value}<br>parent=%{parent}<br>id=%{id}<br>Value=%{color}<extra></extra>",
         "ids": [
          "Austria",
          "Cocos (Keeling) Islands",
          "Congo",
          "Dominica",
          "Guadeloupe",
          "Guinea-Bissau",
          "Jersey",
          "Pitcairn Islands",
          "Saint Vincent and the Grenadines",
          "Swaziland"
         ],
         "labels": [
          "Austria",
          "Cocos (Keeling) Islands",
          "Congo",
          "Dominica",
          "Guadeloupe",
          "Guinea-Bissau",
          "Jersey",
          "Pitcairn Islands",
          "Saint Vincent and the Grenadines",
          "Swaziland"
         ],
         "marker": {
          "coloraxis": "coloraxis",
          "colors": [
           105536.52,
           102412.96,
           136314.5,
           128579.3,
           135628.85,
           133790.47,
           97002.06999999999,
           95335.2,
           105609.1,
           114364.94
          ]
         },
         "name": "",
         "parents": [
          "",
          "",
          "",
          "",
          "",
          "",
          "",
          "",
          "",
          ""
         ],
         "type": "treemap",
         "values": [
          105536.52,
          102412.96,
          136314.5,
          128579.3,
          135628.85,
          133790.47,
          97002.06999999999,
          95335.2,
          105609.1,
          114364.94
         ]
        }
       ],
       "layout": {
        "autosize": true,
        "coloraxis": {
         "colorbar": {
          "title": {
           "text": "Value"
          }
         },
         "colorscale": [
          [
           0,
           "rgb(247,251,255)"
          ],
          [
           0.125,
           "rgb(222,235,247)"
          ],
          [
           0.25,
           "rgb(198,219,239)"
          ],
          [
           0.375,
           "rgb(158,202,225)"
          ],
          [
           0.5,
           "rgb(107,174,214)"
          ],
          [
           0.625,
           "rgb(66,146,198)"
          ],
          [
           0.75,
           "rgb(33,113,181)"
          ],
          [
           0.875,
           "rgb(8,81,156)"
          ],
          [
           1,
           "rgb(8,48,107)"
          ]
         ]
        },
        "legend": {
         "tracegroupgap": 0
        },
        "template": {
         "data": {
          "bar": [
           {
            "error_x": {
             "color": "#2a3f5f"
            },
            "error_y": {
             "color": "#2a3f5f"
            },
            "marker": {
             "line": {
              "color": "#E5ECF6",
              "width": 0.5
             },
             "pattern": {
              "fillmode": "overlay",
              "size": 10,
              "solidity": 0.2
             }
            },
            "type": "bar"
           }
          ],
          "barpolar": [
           {
            "marker": {
             "line": {
              "color": "#E5ECF6",
              "width": 0.5
             },
             "pattern": {
              "fillmode": "overlay",
              "size": 10,
              "solidity": 0.2
             }
            },
            "type": "barpolar"
           }
          ],
          "carpet": [
           {
            "aaxis": {
             "endlinecolor": "#2a3f5f",
             "gridcolor": "white",
             "linecolor": "white",
             "minorgridcolor": "white",
             "startlinecolor": "#2a3f5f"
            },
            "baxis": {
             "endlinecolor": "#2a3f5f",
             "gridcolor": "white",
             "linecolor": "white",
             "minorgridcolor": "white",
             "startlinecolor": "#2a3f5f"
            },
            "type": "carpet"
           }
          ],
          "choropleth": [
           {
            "colorbar": {
             "outlinewidth": 0,
             "ticks": ""
            },
            "type": "choropleth"
           }
          ],
          "contour": [
           {
            "colorbar": {
             "outlinewidth": 0,
             "ticks": ""
            },
            "colorscale": [
             [
              0,
              "#0d0887"
             ],
             [
              0.1111111111111111,
              "#46039f"
             ],
             [
              0.2222222222222222,
              "#7201a8"
             ],
             [
              0.3333333333333333,
              "#9c179e"
             ],
             [
              0.4444444444444444,
              "#bd3786"
             ],
             [
              0.5555555555555556,
              "#d8576b"
             ],
             [
              0.6666666666666666,
              "#ed7953"
             ],
             [
              0.7777777777777778,
              "#fb9f3a"
             ],
             [
              0.8888888888888888,
              "#fdca26"
             ],
             [
              1,
              "#f0f921"
             ]
            ],
            "type": "contour"
           }
          ],
          "contourcarpet": [
           {
            "colorbar": {
             "outlinewidth": 0,
             "ticks": ""
            },
            "type": "contourcarpet"
           }
          ],
          "heatmap": [
           {
            "colorbar": {
             "outlinewidth": 0,
             "ticks": ""
            },
            "colorscale": [
             [
              0,
              "#0d0887"
             ],
             [
              0.1111111111111111,
              "#46039f"
             ],
             [
              0.2222222222222222,
              "#7201a8"
             ],
             [
              0.3333333333333333,
              "#9c179e"
             ],
             [
              0.4444444444444444,
              "#bd3786"
             ],
             [
              0.5555555555555556,
              "#d8576b"
             ],
             [
              0.6666666666666666,
              "#ed7953"
             ],
             [
              0.7777777777777778,
              "#fb9f3a"
             ],
             [
              0.8888888888888888,
              "#fdca26"
             ],
             [
              1,
              "#f0f921"
             ]
            ],
            "type": "heatmap"
           }
          ],
          "heatmapgl": [
           {
            "colorbar": {
             "outlinewidth": 0,
             "ticks": ""
            },
            "colorscale": [
             [
              0,
              "#0d0887"
             ],
             [
              0.1111111111111111,
              "#46039f"
             ],
             [
              0.2222222222222222,
              "#7201a8"
             ],
             [
              0.3333333333333333,
              "#9c179e"
             ],
             [
              0.4444444444444444,
              "#bd3786"
             ],
             [
              0.5555555555555556,
              "#d8576b"
             ],
             [
              0.6666666666666666,
              "#ed7953"
             ],
             [
              0.7777777777777778,
              "#fb9f3a"
             ],
             [
              0.8888888888888888,
              "#fdca26"
             ],
             [
              1,
              "#f0f921"
             ]
            ],
            "type": "heatmapgl"
           }
          ],
          "histogram": [
           {
            "marker": {
             "pattern": {
              "fillmode": "overlay",
              "size": 10,
              "solidity": 0.2
             }
            },
            "type": "histogram"
           }
          ],
          "histogram2d": [
           {
            "colorbar": {
             "outlinewidth": 0,
             "ticks": ""
            },
            "colorscale": [
             [
              0,
              "#0d0887"
             ],
             [
              0.1111111111111111,
              "#46039f"
             ],
             [
              0.2222222222222222,
              "#7201a8"
             ],
             [
              0.3333333333333333,
              "#9c179e"
             ],
             [
              0.4444444444444444,
              "#bd3786"
             ],
             [
              0.5555555555555556,
              "#d8576b"
             ],
             [
              0.6666666666666666,
              "#ed7953"
             ],
             [
              0.7777777777777778,
              "#fb9f3a"
             ],
             [
              0.8888888888888888,
              "#fdca26"
             ],
             [
              1,
              "#f0f921"
             ]
            ],
            "type": "histogram2d"
           }
          ],
          "histogram2dcontour": [
           {
            "colorbar": {
             "outlinewidth": 0,
             "ticks": ""
            },
            "colorscale": [
             [
              0,
              "#0d0887"
             ],
             [
              0.1111111111111111,
              "#46039f"
             ],
             [
              0.2222222222222222,
              "#7201a8"
             ],
             [
              0.3333333333333333,
              "#9c179e"
             ],
             [
              0.4444444444444444,
              "#bd3786"
             ],
             [
              0.5555555555555556,
              "#d8576b"
             ],
             [
              0.6666666666666666,
              "#ed7953"
             ],
             [
              0.7777777777777778,
              "#fb9f3a"
             ],
             [
              0.8888888888888888,
              "#fdca26"
             ],
             [
              1,
              "#f0f921"
             ]
            ],
            "type": "histogram2dcontour"
           }
          ],
          "mesh3d": [
           {
            "colorbar": {
             "outlinewidth": 0,
             "ticks": ""
            },
            "type": "mesh3d"
           }
          ],
          "parcoords": [
           {
            "line": {
             "colorbar": {
              "outlinewidth": 0,
              "ticks": ""
             }
            },
            "type": "parcoords"
           }
          ],
          "pie": [
           {
            "automargin": true,
            "type": "pie"
           }
          ],
          "scatter": [
           {
            "fillpattern": {
             "fillmode": "overlay",
             "size": 10,
             "solidity": 0.2
            },
            "type": "scatter"
           }
          ],
          "scatter3d": [
           {
            "line": {
             "colorbar": {
              "outlinewidth": 0,
              "ticks": ""
             }
            },
            "marker": {
             "colorbar": {
              "outlinewidth": 0,
              "ticks": ""
             }
            },
            "type": "scatter3d"
           }
          ],
          "scattercarpet": [
           {
            "marker": {
             "colorbar": {
              "outlinewidth": 0,
              "ticks": ""
             }
            },
            "type": "scattercarpet"
           }
          ],
          "scattergeo": [
           {
            "marker": {
             "colorbar": {
              "outlinewidth": 0,
              "ticks": ""
             }
            },
            "type": "scattergeo"
           }
          ],
          "scattergl": [
           {
            "marker": {
             "colorbar": {
              "outlinewidth": 0,
              "ticks": ""
             }
            },
            "type": "scattergl"
           }
          ],
          "scattermapbox": [
           {
            "marker": {
             "colorbar": {
              "outlinewidth": 0,
              "ticks": ""
             }
            },
            "type": "scattermapbox"
           }
          ],
          "scatterpolar": [
           {
            "marker": {
             "colorbar": {
              "outlinewidth": 0,
              "ticks": ""
             }
            },
            "type": "scatterpolar"
           }
          ],
          "scatterpolargl": [
           {
            "marker": {
             "colorbar": {
              "outlinewidth": 0,
              "ticks": ""
             }
            },
            "type": "scatterpolargl"
           }
          ],
          "scatterternary": [
           {
            "marker": {
             "colorbar": {
              "outlinewidth": 0,
              "ticks": ""
             }
            },
            "type": "scatterternary"
           }
          ],
          "surface": [
           {
            "colorbar": {
             "outlinewidth": 0,
             "ticks": ""
            },
            "colorscale": [
             [
              0,
              "#0d0887"
             ],
             [
              0.1111111111111111,
              "#46039f"
             ],
             [
              0.2222222222222222,
              "#7201a8"
             ],
             [
              0.3333333333333333,
              "#9c179e"
             ],
             [
              0.4444444444444444,
              "#bd3786"
             ],
             [
              0.5555555555555556,
              "#d8576b"
             ],
             [
              0.6666666666666666,
              "#ed7953"
             ],
             [
              0.7777777777777778,
              "#fb9f3a"
             ],
             [
              0.8888888888888888,
              "#fdca26"
             ],
             [
              1,
              "#f0f921"
             ]
            ],
            "type": "surface"
           }
          ],
          "table": [
           {
            "cells": {
             "fill": {
              "color": "#EBF0F8"
             },
             "line": {
              "color": "white"
             }
            },
            "header": {
             "fill": {
              "color": "#C8D4E3"
             },
             "line": {
              "color": "white"
             }
            },
            "type": "table"
           }
          ]
         },
         "layout": {
          "annotationdefaults": {
           "arrowcolor": "#2a3f5f",
           "arrowhead": 0,
           "arrowwidth": 1
          },
          "autotypenumbers": "strict",
          "coloraxis": {
           "colorbar": {
            "outlinewidth": 0,
            "ticks": ""
           }
          },
          "colorscale": {
           "diverging": [
            [
             0,
             "#8e0152"
            ],
            [
             0.1,
             "#c51b7d"
            ],
            [
             0.2,
             "#de77ae"
            ],
            [
             0.3,
             "#f1b6da"
            ],
            [
             0.4,
             "#fde0ef"
            ],
            [
             0.5,
             "#f7f7f7"
            ],
            [
             0.6,
             "#e6f5d0"
            ],
            [
             0.7,
             "#b8e186"
            ],
            [
             0.8,
             "#7fbc41"
            ],
            [
             0.9,
             "#4d9221"
            ],
            [
             1,
             "#276419"
            ]
           ],
           "sequential": [
            [
             0,
             "#0d0887"
            ],
            [
             0.1111111111111111,
             "#46039f"
            ],
            [
             0.2222222222222222,
             "#7201a8"
            ],
            [
             0.3333333333333333,
             "#9c179e"
            ],
            [
             0.4444444444444444,
             "#bd3786"
            ],
            [
             0.5555555555555556,
             "#d8576b"
            ],
            [
             0.6666666666666666,
             "#ed7953"
            ],
            [
             0.7777777777777778,
             "#fb9f3a"
            ],
            [
             0.8888888888888888,
             "#fdca26"
            ],
            [
             1,
             "#f0f921"
            ]
           ],
           "sequentialminus": [
            [
             0,
             "#0d0887"
            ],
            [
             0.1111111111111111,
             "#46039f"
            ],
            [
             0.2222222222222222,
             "#7201a8"
            ],
            [
             0.3333333333333333,
             "#9c179e"
            ],
            [
             0.4444444444444444,
             "#bd3786"
            ],
            [
             0.5555555555555556,
             "#d8576b"
            ],
            [
             0.6666666666666666,
             "#ed7953"
            ],
            [
             0.7777777777777778,
             "#fb9f3a"
            ],
            [
             0.8888888888888888,
             "#fdca26"
            ],
            [
             1,
             "#f0f921"
            ]
           ]
          },
          "colorway": [
           "#636efa",
           "#EF553B",
           "#00cc96",
           "#ab63fa",
           "#FFA15A",
           "#19d3f3",
           "#FF6692",
           "#B6E880",
           "#FF97FF",
           "#FECB52"
          ],
          "font": {
           "color": "#2a3f5f"
          },
          "geo": {
           "bgcolor": "white",
           "lakecolor": "white",
           "landcolor": "#E5ECF6",
           "showlakes": true,
           "showland": true,
           "subunitcolor": "white"
          },
          "hoverlabel": {
           "align": "left"
          },
          "hovermode": "closest",
          "mapbox": {
           "style": "light"
          },
          "paper_bgcolor": "white",
          "plot_bgcolor": "#E5ECF6",
          "polar": {
           "angularaxis": {
            "gridcolor": "white",
            "linecolor": "white",
            "ticks": ""
           },
           "bgcolor": "#E5ECF6",
           "radialaxis": {
            "gridcolor": "white",
            "linecolor": "white",
            "ticks": ""
           }
          },
          "scene": {
           "xaxis": {
            "backgroundcolor": "#E5ECF6",
            "gridcolor": "white",
            "gridwidth": 2,
            "linecolor": "white",
            "showbackground": true,
            "ticks": "",
            "zerolinecolor": "white"
           },
           "yaxis": {
            "backgroundcolor": "#E5ECF6",
            "gridcolor": "white",
            "gridwidth": 2,
            "linecolor": "white",
            "showbackground": true,
            "ticks": "",
            "zerolinecolor": "white"
           },
           "zaxis": {
            "backgroundcolor": "#E5ECF6",
            "gridcolor": "white",
            "gridwidth": 2,
            "linecolor": "white",
            "showbackground": true,
            "ticks": "",
            "zerolinecolor": "white"
           }
          },
          "shapedefaults": {
           "line": {
            "color": "#2a3f5f"
           }
          },
          "ternary": {
           "aaxis": {
            "gridcolor": "white",
            "linecolor": "white",
            "ticks": ""
           },
           "baxis": {
            "gridcolor": "white",
            "linecolor": "white",
            "ticks": ""
           },
           "bgcolor": "#E5ECF6",
           "caxis": {
            "gridcolor": "white",
            "linecolor": "white",
            "ticks": ""
           }
          },
          "title": {
           "x": 0.05
          },
          "xaxis": {
           "automargin": true,
           "gridcolor": "white",
           "linecolor": "white",
           "ticks": "",
           "title": {
            "standoff": 15
           },
           "zerolinecolor": "white",
           "zerolinewidth": 2
          },
          "yaxis": {
           "automargin": true,
           "gridcolor": "white",
           "linecolor": "white",
           "ticks": "",
           "title": {
            "standoff": 15
           },
           "zerolinecolor": "white",
           "zerolinewidth": 2
          }
         }
        },
        "title": {
         "text": "Top Trading Countries by Revenue"
        }
       }
      },
      "image/png": "[encoded data removed]",
      "text/html": [
       "<div>                            <div id=\"8791545b-f0d7-4eaf-8b1f-6a7d4112bc9a\" class=\"plotly-graph-div\" style=\"height:525px; width:100%;\"></div>            <script type=\"text/javascript\">                require([\"plotly\"], function(Plotly) {                    window.PLOTLYENV=window.PLOTLYENV || {};                                    if (document.getElementById(\"8791545b-f0d7-4eaf-8b1f-6a7d4112bc9a\")) {                    Plotly.newPlot(                        \"8791545b-f0d7-4eaf-8b1f-6a7d4112bc9a\",                        [{\"branchvalues\":\"total\",\"customdata\":[[105536.52],[102412.96],[136314.5],[128579.3],[135628.85],[133790.47],[97002.06999999999],[95335.2],[105609.1],[114364.94]],\"domain\":{\"x\":[0.0,1.0],\"y\":[0.0,1.0]},\"hovertemplate\":\"labels=%{label}\\u003cbr\\u003eValue_sum=%{value}\\u003cbr\\u003eparent=%{parent}\\u003cbr\\u003eid=%{id}\\u003cbr\\u003eValue=%{color}\\u003cextra\\u003e\\u003c\\u002fextra\\u003e\",\"ids\":[\"Austria\",\"Cocos (Keeling) Islands\",\"Congo\",\"Dominica\",\"Guadeloupe\",\"Guinea-Bissau\",\"Jersey\",\"Pitcairn Islands\",\"Saint Vincent and the Grenadines\",\"Swaziland\"],\"labels\":[\"Austria\",\"Cocos (Keeling) Islands\",\"Congo\",\"Dominica\",\"Guadeloupe\",\"Guinea-Bissau\",\"Jersey\",\"Pitcairn Islands\",\"Saint Vincent and the Grenadines\",\"Swaziland\"],\"marker\":{\"coloraxis\":\"coloraxis\",\"colors\":[105536.52,102412.96,136314.5,128579.3,135628.85,133790.47,97002.06999999999,95335.2,105609.1,114364.94]},\"name\":\"\",\"parents\":[\"\",\"\",\"\",\"\",\"\",\"\",\"\",\"\",\"\",\"\"],\"values\":[105536.52,102412.96,136314.5,128579.3,135628.85,133790.47,97002.06999999999,95335.2,105609.1,114364.94],\"type\":\"treemap\"}],                        {\"template\":{\"data\":{\"histogram2dcontour\":[{\"type\":\"histogram2dcontour\",\"colorbar\":{\"outlinewidth\":0,\"ticks\":\"\"},\"colorscale\":[[0.0,\"#0d0887\"],[0.1111111111111111,\"#46039f\"],[0.2222222222222222,\"#7201a8\"],[0.3333333333333333,\"#9c179e\"],[0.4444444444444444,\"#bd3786\"],[0.5555555555555556,\"#d8576b\"],[0.6666666666666666,\"#ed7953\"],[0.7777777777777778,\"#fb9f3a\"],[0.8888888888888888,\"#fdca26\"],[1.0,\"#f0f921\"]]}],\"choropleth\":[{\"type\":\"choropleth\",\"colorbar\":{\"outlinewidth\":0,\"ticks\":\"\"}}],\"histogram2d\":[{\"type\":\"histogram2d\",\"colorbar\":{\"outlinewidth\":0,\"ticks\":\"\"},\"colorscale\":[[0.0,\"#0d0887\"],[0.1111111111111111,\"#46039f\"],[0.2222222222222222,\"#7201a8\"],[0.3333333333333333,\"#9c179e\"],[0.4444444444444444,\"#bd3786\"],[0.5555555555555556,\"#d8576b\"],[0.6666666666666666,\"#ed7953\"],[0.7777777777777778,\"#fb9f3a\"],[0.8888888888888888,\"#fdca26\"],[1.0,\"#f0f921\"]]}],\"heatmap\":[{\"type\":\"heatmap\",\"colorbar\":{\"outlinewidth\":0,\"ticks\":\"\"},\"colorscale\":[[0.0,\"#0d0887\"],[0.1111111111111111,\"#46039f\"],[0.2222222222222222,\"#7201a8\"],[0.3333333333333333,\"#9c179e\"],[0.4444444444444444,\"#bd3786\"],[0.5555555555555556,\"#d8576b\"],[0.6666666666666666,\"#ed7953\"],[0.7777777777777778,\"#fb9f3a\"],[0.8888888888888888,\"#fdca26\"],[1.0,\"#f0f921\"]]}],\"heatmapgl\":[{\"type\":\"heatmapgl\",\"colorbar\":{\"outlinewidth\":0,\"ticks\":\"\"},\"colorscale\":[[0.0,\"#0d0887\"],[0.1111111111111111,\"#46039f\"],[0.2222222222222222,\"#7201a8\"],[0.3333333333333333,\"#9c179e\"],[0.4444444444444444,\"#bd3786\"],[0.5555555555555556,\"#d8576b\"],[0.6666666666666666,\"#ed7953\"],[0.7777777777777778,\"#fb9f3a\"],[0.8888888888888888,\"#fdca26\"],[1.0,\"#f0f921\"]]}],\"contourcarpet\":[{\"type\":\"contourcarpet\",\"colorbar\":{\"outlinewidth\":0,\"ticks\":\"\"}}],\"contour\":[{\"type\":\"contour\",\"colorbar\":{\"outlinewidth\":0,\"ticks\":\"\"},\"colorscale\":[[0.0,\"#0d0887\"],[0.1111111111111111,\"#46039f\"],[0.2222222222222222,\"#7201a8\"],[0.3333333333333333,\"#9c179e\"],[0.4444444444444444,\"#bd3786\"],[0.5555555555555556,\"#d8576b\"],[0.6666666666666666,\"#ed7953\"],[0.7777777777777778,\"#fb9f3a\"],[0.8888888888888888,\"#fdca26\"],[1.0,\"#f0f921\"]]}],\"surface\":[{\"type\":\"surface\",\"colorbar\":{\"outlinewidth\":0,\"ticks\":\"\"},\"colorscale\":[[0.0,\"#0d0887\"],[0.1111111111111111,\"#46039f\"],[0.2222222222222222,\"#7201a8\"],[0.3333333333333333,\"#9c179e\"],[0.4444444444444444,\"#bd3786\"],[0.5555555555555556,\"#d8576b\"],[0.6666666666666666,\"#ed7953\"],[0.7777777777777778,\"#fb9f3a\"],[0.8888888888888888,\"#fdca26\"],[1.0,\"#f0f921\"]]}],\"mesh3d\":[{\"type\":\"mesh3d\",\"colorbar\":{\"outlinewidth\":0,\"ticks\":\"\"}}],\"scatter\":[{\"fillpattern\":{\"fillmode\":\"overlay\",\"size\":10,\"solidity\":0.2},\"type\":\"scatter\"}],\"parcoords\":[{\"type\":\"parcoords\",\"line\":{\"colorbar\":{\"outlinewidth\":0,\"ticks\":\"\"}}}],\"scatterpolargl\":[{\"type\":\"scatterpolargl\",\"marker\":{\"colorbar\":{\"outlinewidth\":0,\"ticks\":\"\"}}}],\"bar\":[{\"error_x\":{\"color\":\"#2a3f5f\"},\"error_y\":{\"color\":\"#2a3f5f\"},\"marker\":{\"line\":{\"color\":\"#E5ECF6\",\"width\":0.5},\"pattern\":{\"fillmode\":\"overlay\",\"size\":10,\"solidity\":0.2}},\"type\":\"bar\"}],\"scattergeo\":[{\"type\":\"scattergeo\",\"marker\":{\"colorbar\":{\"outlinewidth\":0,\"ticks\":\"\"}}}],\"scatterpolar\":[{\"type\":\"scatterpolar\",\"marker\":{\"colorbar\":{\"outlinewidth\":0,\"ticks\":\"\"}}}],\"histogram\":[{\"marker\":{\"pattern\":{\"fillmode\":\"overlay\",\"size\":10,\"solidity\":0.2}},\"type\":\"histogram\"}],\"scattergl\":[{\"type\":\"scattergl\",\"marker\":{\"colorbar\":{\"outlinewidth\":0,\"ticks\":\"\"}}}],\"scatter3d\":[{\"type\":\"scatter3d\",\"line\":{\"colorbar\":{\"outlinewidth\":0,\"ticks\":\"\"}},\"marker\":{\"colorbar\":{\"outlinewidth\":0,\"ticks\":\"\"}}}],\"scattermapbox\":[{\"type\":\"scattermapbox\",\"marker\":{\"colorbar\":{\"outlinewidth\":0,\"ticks\":\"\"}}}],\"scatterternary\":[{\"type\":\"scatterternary\",\"marker\":{\"colorbar\":{\"outlinewidth\":0,\"ticks\":\"\"}}}],\"scattercarpet\":[{\"type\":\"scattercarpet\",\"marker\":{\"colorbar\":{\"outlinewidth\":0,\"ticks\":\"\"}}}],\"carpet\":[{\"aaxis\":{\"endlinecolor\":\"#2a3f5f\",\"gridcolor\":\"white\",\"linecolor\":\"white\",\"minorgridcolor\":\"white\",\"startlinecolor\":\"#2a3f5f\"},\"baxis\":{\"endlinecolor\":\"#2a3f5f\",\"gridcolor\":\"white\",\"linecolor\":\"white\",\"minorgridcolor\":\"white\",\"startlinecolor\":\"#2a3f5f\"},\"type\":\"carpet\"}],\"table\":[{\"cells\":{\"fill\":{\"color\":\"#EBF0F8\"},\"line\":{\"color\":\"white\"}},\"header\":{\"fill\":{\"color\":\"#C8D4E3\"},\"line\":{\"color\":\"white\"}},\"type\":\"table\"}],\"barpolar\":[{\"marker\":{\"line\":{\"color\":\"#E5ECF6\",\"width\":0.5},\"pattern\":{\"fillmode\":\"overlay\",\"size\":10,\"solidity\":0.2}},\"type\":\"barpolar\"}],\"pie\":[{\"automargin\":true,\"type\":\"pie\"}]},\"layout\":{\"autotypenumbers\":\"strict\",\"colorway\":[\"#636efa\",\"#EF553B\",\"#00cc96\",\"#ab63fa\",\"#FFA15A\",\"#19d3f3\",\"#FF6692\",\"#B6E880\",\"#FF97FF\",\"#FECB52\"],\"font\":{\"color\":\"#2a3f5f\"},\"hovermode\":\"closest\",\"hoverlabel\":{\"align\":\"left\"},\"paper_bgcolor\":\"white\",\"plot_bgcolor\":\"#E5ECF6\",\"polar\":{\"bgcolor\":\"#E5ECF6\",\"angularaxis\":{\"gridcolor\":\"white\",\"linecolor\":\"white\",\"ticks\":\"\"},\"radialaxis\":{\"gridcolor\":\"white\",\"linecolor\":\"white\",\"ticks\":\"\"}},\"ternary\":{\"bgcolor\":\"#E5ECF6\",\"aaxis\":{\"gridcolor\":\"white\",\"linecolor\":\"white\",\"ticks\":\"\"},\"baxis\":{\"gridcolor\":\"white\",\"linecolor\":\"white\",\"ticks\":\"\"},\"caxis\":{\"gridcolor\":\"white\",\"linecolor\":\"white\",\"ticks\":\"\"}},\"coloraxis\":{\"colorbar\":{\"outlinewidth\":0,\"ticks\":\"\"}},\"colorscale\":{\"sequential\":[[0.0,\"#0d0887\"],[0.1111111111111111,\"#46039f\"],[0.2222222222222222,\"#7201a8\"],[0.3333333333333333,\"#9c179e\"],[0.4444444444444444,\"#bd3786\"],[0.5555555555555556,\"#d8576b\"],[0.6666666666666666,\"#ed7953\"],[0.7777777777777778,\"#fb9f3a\"],[0.8888888888888888,\"#fdca26\"],[1.0,\"#f0f921\"]],\"sequentialminus\":[[0.0,\"#0d0887\"],[0.1111111111111111,\"#46039f\"],[0.2222222222222222,\"#7201a8\"],[0.3333333333333333,\"#9c179e\"],[0.4444444444444444,\"#bd3786\"],[0.5555555555555556,\"#d8576b\"],[0.6666666666666666,\"#ed7953\"],[0.7777777777777778,\"#fb9f3a\"],[0.8888888888888888,\"#fdca26\"],[1.0,\"#f0f921\"]],\"diverging\":[[0,\"#8e0152\"],[0.1,\"#c51b7d\"],[0.2,\"#de77ae\"],[0.3,\"#f1b6da\"],[0.4,\"#fde0ef\"],[0.5,\"#f7f7f7\"],[0.6,\"#e6f5d0\"],[0.7,\"#b8e186\"],[0.8,\"#7fbc41\"],[0.9,\"#4d9221\"],[1,\"#276419\"]]},\"xaxis\":{\"gridcolor\":\"white\",\"linecolor\":\"white\",\"ticks\":\"\",\"title\":{\"standoff\":15},\"zerolinecolor\":\"white\",\"automargin\":true,\"zerolinewidth\":2},\"yaxis\":{\"gridcolor\":\"white\",\"linecolor\":\"white\",\"ticks\":\"\",\"title\":{\"standoff\":15},\"zerolinecolor\":\"white\",\"automargin\":true,\"zerolinewidth\":2},\"scene\":{\"xaxis\":{\"backgroundcolor\":\"#E5ECF6\",\"gridcolor\":\"white\",\"linecolor\":\"white\",\"showbackground\":true,\"ticks\":\"\",\"zerolinecolor\":\"white\",\"gridwidth\":2},\"yaxis\":{\"backgroundcolor\":\"#E5ECF6\",\"gridcolor\":\"white\",\"linecolor\":\"white\",\"showbackground\":true,\"ticks\":\"\",\"zerolinecolor\":\"white\",\"gridwidth\":2},\"zaxis\":{\"backgroundcolor\":\"#E5ECF6\",\"gridcolor\":\"white\",\"linecolor\":\"white\",\"showbackground\":true,\"ticks\":\"\",\"zerolinecolor\":\"white\",\"gridwidth\":2}},\"shapedefaults\":{\"line\":{\"color\":\"#2a3f5f\"}},\"annotationdefaults\":{\"arrowcolor\":\"#2a3f5f\",\"arrowhead\":0,\"arrowwidth\":1},\"geo\":{\"bgcolor\":\"white\",\"landcolor\":\"#E5ECF6\",\"subunitcolor\":\"white\",\"showland\":true,\"showlakes\":true,\"lakecolor\":\"white\"},\"title\":{\"x\":0.05},\"mapbox\":{\"style\":\"light\"}}},\"coloraxis\":{\"colorbar\":{\"title\":{\"text\":\"Value\"}},\"colorscale\":[[0.0,\"rgb(247,251,255)\"],[0.125,\"rgb(222,235,247)\"],[0.25,\"rgb(198,219,239)\"],[0.375,\"rgb(158,202,225)\"],[0.5,\"rgb(107,174,214)\"],[0.625,\"rgb(66,146,198)\"],[0.75,\"rgb(33,113,181)\"],[0.875,\"rgb(8,81,156)\"],[1.0,\"rgb(8,48,107)\"]]},\"legend\":{\"tracegroupgap\":0},\"title\":{\"text\":\"Top Trading Countries by Revenue\"}},                        {\"responsive\": true}                    ).then(function(){\n",
       "                            \n",
       "var gd = document.getElementById('8791545b-f0d7-4eaf-8b1f-6a7d4112bc9a');\n",
       "var x = new MutationObserver(function (mutations, observer) {{\n",
       "        var display = window.getComputedStyle(gd).display;\n",
       "        if (!display || display === 'none') {{\n",
       "            console.log([gd, 'removed!']);\n",
       "            Plotly.purge(gd);\n",
       "            observer.disconnect();\n",
       "        }}\n",
       "}});\n",
       "\n",
       "// Listen for the removal of the full notebook cells\n",
       "var notebookContainer = gd.closest('#notebook-container');\n",
       "if (notebookContainer) {{\n",
       "    x.observe(notebookContainer, {childList: true});\n",
       "}}\n",
       "\n",
       "// Listen for the clearing of the current output cell\n",
       "var outputEl = gd.closest('.output');\n",
       "if (outputEl) {{\n",
       "    x.observe(outputEl, {childList: true});\n",
       "}}\n",
       "\n",
       "                        })                };                });            </script>        </div>"
      ]
     },
     "metadata": {},
     "output_type": "display_data"
    }
   ],
   "source": [
    "import plotly.express as px\n",
    "\n",
    "# Calculating total revenue by country\n",
    "total_revenue_by_country = sdset.groupby('Country')['Value'].sum().reset_index()\n",
    "\n",
    "# Getting the top trading countries by revenue\n",
    "top_countries = total_revenue_by_country.sort_values(by='Value', ascending=False).head(10)\n",
    "\n",
    "# Creating the treemap\n",
    "fig = px.treemap(top_countries, \n",
    "                 path=['Country'], \n",
    "                 values='Value', \n",
    "                 title='Top Trading Countries by Revenue',\n",
    "                 color='Value',\n",
    "                 color_continuous_scale='Blues')\n",
    "\n",
    "# Show the plot\n",
    "fig.show()"
   ]
  },
  {
   "cell_type": "markdown",
   "id": "6f8ab573-7b0a-41e6-9e67-9825c7bb7b91",
   "metadata": {},
   "source": [
    "**Top 10 countries by Transaction Count**"
   ]
  },
  {
   "cell_type": "code",
   "execution_count": 322,
   "id": "36c5c1b7-92cf-4563-aa68-64becded1e07",
   "metadata": {
    "scrolled": true
   },
   "outputs": [
    {
     "data": {
      "image/png": "[encoded data removed]",
      "text/plain": [
       "<Figure size 1200x600 with 1 Axes>"
      ]
     },
     "metadata": {},
     "output_type": "display_data"
    }
   ],
   "source": [
    "import seaborn as sns\n",
    "\n",
    "# Calculate total transactions by country\n",
    "total_transactions_by_country = sdset['Country'].value_counts().reset_index()\n",
    "total_transactions_by_country.columns = ['Country', 'Transaction_Count']\n",
    "\n",
    "# Get the top 10 countries by transaction count\n",
    "top_10_transactions = total_transactions_by_country.nlargest(10, 'Transaction_Count')\n",
    "\n",
    "# Create a dot plot\n",
    "plt.figure(figsize=(12, 6))\n",
    "sns.stripplot(data=top_10_transactions, x='Transaction_Count', y='Country', size=10, color='blue', alpha=0.7)\n",
    "plt.title('Top 10 Countries by Total Transactions (Dot Plot)')\n",
    "plt.xlabel('Total Transactions')\n",
    "plt.ylabel('Country')\n",
    "plt.xticks(rotation=45)\n",
    "\n",
    "# Annotate the dot plot with values\n",
    "for i in range(top_10_transactions.shape[0]):\n",
    "    plt.text(top_10_transactions['Transaction_Count'].iloc[i] + 0.5, \n",
    "             i, \n",
    "             top_10_transactions['Transaction_Count'].iloc[i], \n",
    "             fontsize=10, \n",
    "             va='center')\n",
    "\n",
    "plt.show()"
   ]
  },
  {
   "cell_type": "markdown",
   "id": "53fe2cd9-c4cb-4aee-b9f9-7f3de2f10c36",
   "metadata": {},
   "source": [
    "***Product & Shipping Insights***"
   ]
  },
  {
   "cell_type": "markdown",
   "id": "aa0e9a0b-6efa-4e71-bd81-b259df8550ad",
   "metadata": {},
   "source": [
    "**Most Profitable Product Category:**"
   ]
  },
  {
   "cell_type": "code",
   "execution_count": 324,
   "id": "64f7281c-6658-4f60-b679-e50a7c2c995a",
   "metadata": {
    "scrolled": true
   },
   "outputs": [
    {
     "data": {
      "image/png": "[encoded data removed]",
      "text/plain": [
       "<Figure size 1000x600 with 1 Axes>"
      ]
     },
     "metadata": {},
     "output_type": "display_data"
    }
   ],
   "source": [
    "revenue_per_category = sdset.groupby('Category')['Value'].sum().reset_index()\n",
    "\n",
    "# Sorting categories by total revenue in descending order\n",
    "revenue_per_category = revenue_per_category.sort_values(by='Value', ascending=False)\n",
    "\n",
    "# Creating a horizontal bar chart\n",
    "plt.figure(figsize=(10, 6))\n",
    "bars = plt.barh(revenue_per_category['Category'], revenue_per_category['Value'], color='green')\n",
    "\n",
    "# Annotating bars with revenue values\n",
    "for bar in bars:\n",
    "    plt.text(bar.get_width(), bar.get_y() + bar.get_height() / 2, \n",
    "             f'{bar.get_width():,.0f}',  # Format the number with commas\n",
    "             va='center', ha='left', fontsize=10, color='black')\n",
    "\n",
    "# Adding labels and title\n",
    "plt.xlabel('Total Revenue', fontsize=14)\n",
    "plt.title('Most Profitable Product Category', fontsize=16)\n",
    "plt.grid(axis='x')  # Add grid for better readability\n",
    "\n",
    "# Show the plot\n",
    "plt.tight_layout()  # Adjust layout to fit everything\n",
    "plt.show()"
   ]
  },
  {
   "cell_type": "markdown",
   "id": "8c881f79-ab3d-4075-9061-5e1670ac7493",
   "metadata": {},
   "source": [
    "**Most Used Shipping Method (By Category):**"
   ]
  },
  {
   "cell_type": "code",
   "execution_count": 326,
   "id": "be765b60-2230-4508-bf28-2176c0804555",
   "metadata": {
    "scrolled": true
   },
   "outputs": [
    {
     "data": {
      "application/vnd.plotly.v1+json": {
       "config": {
        "plotlyServerURL": "https://plot.ly"
       },
       "data": [
        {
         "branchvalues": "total",
         "customdata": [
          [
           214
          ],
          [
           198
          ],
          [
           198
          ],
          [
           204
          ],
          [
           179
          ],
          [
           189
          ],
          [
           184
          ],
          [
           194
          ],
          [
           207
          ],
          [
           206
          ],
          [
           212
          ],
          [
           199
          ],
          [
           199
          ],
          [
           227
          ],
          [
           191
          ],
          [
           615
          ],
          [
           581
          ],
          [
           591
          ],
          [
           638
          ],
          [
           576
          ]
         ],
         "domain": {
          "x": [
           0,
           1
          ],
          "y": [
           0,
           1
          ]
         },
         "hovertemplate": "labels=%{label}<br>Count=%{customdata[0]}<br>parent=%{parent}<br>id=%{id}<extra></extra>",
         "ids": [
          "Clothing/Air",
          "Electronics/Air",
          "Furniture/Air",
          "Machinery/Air",
          "Toys/Air",
          "Clothing/Land",
          "Electronics/Land",
          "Furniture/Land",
          "Machinery/Land",
          "Toys/Land",
          "Clothing/Sea",
          "Electronics/Sea",
          "Furniture/Sea",
          "Machinery/Sea",
          "Toys/Sea",
          "Clothing",
          "Electronics",
          "Furniture",
          "Machinery",
          "Toys"
         ],
         "labels": [
          "Air",
          "Air",
          "Air",
          "Air",
          "Air",
          "Land",
          "Land",
          "Land",
          "Land",
          "Land",
          "Sea",
          "Sea",
          "Sea",
          "Sea",
          "Sea",
          "Clothing",
          "Electronics",
          "Furniture",
          "Machinery",
          "Toys"
         ],
         "name": "",
         "parents": [
          "Clothing",
          "Electronics",
          "Furniture",
          "Machinery",
          "Toys",
          "Clothing",
          "Electronics",
          "Furniture",
          "Machinery",
          "Toys",
          "Clothing",
          "Electronics",
          "Furniture",
          "Machinery",
          "Toys",
          "",
          "",
          "",
          "",
          ""
         ],
         "textinfo": "label+value",
         "type": "sunburst",
         "values": [
          214,
          198,
          198,
          204,
          179,
          189,
          184,
          194,
          207,
          206,
          212,
          199,
          199,
          227,
          191,
          615,
          581,
          591,
          638,
          576
         ]
        }
       ],
       "layout": {
        "autosize": true,
        "legend": {
         "tracegroupgap": 0
        },
        "template": {
         "data": {
          "bar": [
           {
            "error_x": {
             "color": "#2a3f5f"
            },
            "error_y": {
             "color": "#2a3f5f"
            },
            "marker": {
             "line": {
              "color": "#E5ECF6",
              "width": 0.5
             },
             "pattern": {
              "fillmode": "overlay",
              "size": 10,
              "solidity": 0.2
             }
            },
            "type": "bar"
           }
          ],
          "barpolar": [
           {
            "marker": {
             "line": {
              "color": "#E5ECF6",
              "width": 0.5
             },
             "pattern": {
              "fillmode": "overlay",
              "size": 10,
              "solidity": 0.2
             }
            },
            "type": "barpolar"
           }
          ],
          "carpet": [
           {
            "aaxis": {
             "endlinecolor": "#2a3f5f",
             "gridcolor": "white",
             "linecolor": "white",
             "minorgridcolor": "white",
             "startlinecolor": "#2a3f5f"
            },
            "baxis": {
             "endlinecolor": "#2a3f5f",
             "gridcolor": "white",
             "linecolor": "white",
             "minorgridcolor": "white",
             "startlinecolor": "#2a3f5f"
            },
            "type": "carpet"
           }
          ],
          "choropleth": [
           {
            "colorbar": {
             "outlinewidth": 0,
             "ticks": ""
            },
            "type": "choropleth"
           }
          ],
          "contour": [
           {
            "colorbar": {
             "outlinewidth": 0,
             "ticks": ""
            },
            "colorscale": [
             [
              0,
              "#0d0887"
             ],
             [
              0.1111111111111111,
              "#46039f"
             ],
             [
              0.2222222222222222,
              "#7201a8"
             ],
             [
              0.3333333333333333,
              "#9c179e"
             ],
             [
              0.4444444444444444,
              "#bd3786"
             ],
             [
              0.5555555555555556,
              "#d8576b"
             ],
             [
              0.6666666666666666,
              "#ed7953"
             ],
             [
              0.7777777777777778,
              "#fb9f3a"
             ],
             [
              0.8888888888888888,
              "#fdca26"
             ],
             [
              1,
              "#f0f921"
             ]
            ],
            "type": "contour"
           }
          ],
          "contourcarpet": [
           {
            "colorbar": {
             "outlinewidth": 0,
             "ticks": ""
            },
            "type": "contourcarpet"
           }
          ],
          "heatmap": [
           {
            "colorbar": {
             "outlinewidth": 0,
             "ticks": ""
            },
            "colorscale": [
             [
              0,
              "#0d0887"
             ],
             [
              0.1111111111111111,
              "#46039f"
             ],
             [
              0.2222222222222222,
              "#7201a8"
             ],
             [
              0.3333333333333333,
              "#9c179e"
             ],
             [
              0.4444444444444444,
              "#bd3786"
             ],
             [
              0.5555555555555556,
              "#d8576b"
             ],
             [
              0.6666666666666666,
              "#ed7953"
             ],
             [
              0.7777777777777778,
              "#fb9f3a"
             ],
             [
              0.8888888888888888,
              "#fdca26"
             ],
             [
              1,
              "#f0f921"
             ]
            ],
            "type": "heatmap"
           }
          ],
          "heatmapgl": [
           {
            "colorbar": {
             "outlinewidth": 0,
             "ticks": ""
            },
            "colorscale": [
             [
              0,
              "#0d0887"
             ],
             [
              0.1111111111111111,
              "#46039f"
             ],
             [
              0.2222222222222222,
              "#7201a8"
             ],
             [
              0.3333333333333333,
              "#9c179e"
             ],
             [
              0.4444444444444444,
              "#bd3786"
             ],
             [
              0.5555555555555556,
              "#d8576b"
             ],
             [
              0.6666666666666666,
              "#ed7953"
             ],
             [
              0.7777777777777778,
              "#fb9f3a"
             ],
             [
              0.8888888888888888,
              "#fdca26"
             ],
             [
              1,
              "#f0f921"
             ]
            ],
            "type": "heatmapgl"
           }
          ],
          "histogram": [
           {
            "marker": {
             "pattern": {
              "fillmode": "overlay",
              "size": 10,
              "solidity": 0.2
             }
            },
            "type": "histogram"
           }
          ],
          "histogram2d": [
           {
            "colorbar": {
             "outlinewidth": 0,
             "ticks": ""
            },
            "colorscale": [
             [
              0,
              "#0d0887"
             ],
             [
              0.1111111111111111,
              "#46039f"
             ],
             [
              0.2222222222222222,
              "#7201a8"
             ],
             [
              0.3333333333333333,
              "#9c179e"
             ],
             [
              0.4444444444444444,
              "#bd3786"
             ],
             [
              0.5555555555555556,
              "#d8576b"
             ],
             [
              0.6666666666666666,
              "#ed7953"
             ],
             [
              0.7777777777777778,
              "#fb9f3a"
             ],
             [
              0.8888888888888888,
              "#fdca26"
             ],
             [
              1,
              "#f0f921"
             ]
            ],
            "type": "histogram2d"
           }
          ],
          "histogram2dcontour": [
           {
            "colorbar": {
             "outlinewidth": 0,
             "ticks": ""
            },
            "colorscale": [
             [
              0,
              "#0d0887"
             ],
             [
              0.1111111111111111,
              "#46039f"
             ],
             [
              0.2222222222222222,
              "#7201a8"
             ],
             [
              0.3333333333333333,
              "#9c179e"
             ],
             [
              0.4444444444444444,
              "#bd3786"
             ],
             [
              0.5555555555555556,
              "#d8576b"
             ],
             [
              0.6666666666666666,
              "#ed7953"
             ],
             [
              0.7777777777777778,
              "#fb9f3a"
             ],
             [
              0.8888888888888888,
              "#fdca26"
             ],
             [
              1,
              "#f0f921"
             ]
            ],
            "type": "histogram2dcontour"
           }
          ],
          "mesh3d": [
           {
            "colorbar": {
             "outlinewidth": 0,
             "ticks": ""
            },
            "type": "mesh3d"
           }
          ],
          "parcoords": [
           {
            "line": {
             "colorbar": {
              "outlinewidth": 0,
              "ticks": ""
             }
            },
            "type": "parcoords"
           }
          ],
          "pie": [
           {
            "automargin": true,
            "type": "pie"
           }
          ],
          "scatter": [
           {
            "fillpattern": {
             "fillmode": "overlay",
             "size": 10,
             "solidity": 0.2
            },
            "type": "scatter"
           }
          ],
          "scatter3d": [
           {
            "line": {
             "colorbar": {
              "outlinewidth": 0,
              "ticks": ""
             }
            },
            "marker": {
             "colorbar": {
              "outlinewidth": 0,
              "ticks": ""
             }
            },
            "type": "scatter3d"
           }
          ],
          "scattercarpet": [
           {
            "marker": {
             "colorbar": {
              "outlinewidth": 0,
              "ticks": ""
             }
            },
            "type": "scattercarpet"
           }
          ],
          "scattergeo": [
           {
            "marker": {
             "colorbar": {
              "outlinewidth": 0,
              "ticks": ""
             }
            },
            "type": "scattergeo"
           }
          ],
          "scattergl": [
           {
            "marker": {
             "colorbar": {
              "outlinewidth": 0,
              "ticks": ""
             }
            },
            "type": "scattergl"
           }
          ],
          "scattermapbox": [
           {
            "marker": {
             "colorbar": {
              "outlinewidth": 0,
              "ticks": ""
             }
            },
            "type": "scattermapbox"
           }
          ],
          "scatterpolar": [
           {
            "marker": {
             "colorbar": {
              "outlinewidth": 0,
              "ticks": ""
             }
            },
            "type": "scatterpolar"
           }
          ],
          "scatterpolargl": [
           {
            "marker": {
             "colorbar": {
              "outlinewidth": 0,
              "ticks": ""
             }
            },
            "type": "scatterpolargl"
           }
          ],
          "scatterternary": [
           {
            "marker": {
             "colorbar": {
              "outlinewidth": 0,
              "ticks": ""
             }
            },
            "type": "scatterternary"
           }
          ],
          "surface": [
           {
            "colorbar": {
             "outlinewidth": 0,
             "ticks": ""
            },
            "colorscale": [
             [
              0,
              "#0d0887"
             ],
             [
              0.1111111111111111,
              "#46039f"
             ],
             [
              0.2222222222222222,
              "#7201a8"
             ],
             [
              0.3333333333333333,
              "#9c179e"
             ],
             [
              0.4444444444444444,
              "#bd3786"
             ],
             [
              0.5555555555555556,
              "#d8576b"
             ],
             [
              0.6666666666666666,
              "#ed7953"
             ],
             [
              0.7777777777777778,
              "#fb9f3a"
             ],
             [
              0.8888888888888888,
              "#fdca26"
             ],
             [
              1,
              "#f0f921"
             ]
            ],
            "type": "surface"
           }
          ],
          "table": [
           {
            "cells": {
             "fill": {
              "color": "#EBF0F8"
             },
             "line": {
              "color": "white"
             }
            },
            "header": {
             "fill": {
              "color": "#C8D4E3"
             },
             "line": {
              "color": "white"
             }
            },
            "type": "table"
           }
          ]
         },
         "layout": {
          "annotationdefaults": {
           "arrowcolor": "#2a3f5f",
           "arrowhead": 0,
           "arrowwidth": 1
          },
          "autotypenumbers": "strict",
          "coloraxis": {
           "colorbar": {
            "outlinewidth": 0,
            "ticks": ""
           }
          },
          "colorscale": {
           "diverging": [
            [
             0,
             "#8e0152"
            ],
            [
             0.1,
             "#c51b7d"
            ],
            [
             0.2,
             "#de77ae"
            ],
            [
             0.3,
             "#f1b6da"
            ],
            [
             0.4,
             "#fde0ef"
            ],
            [
             0.5,
             "#f7f7f7"
            ],
            [
             0.6,
             "#e6f5d0"
            ],
            [
             0.7,
             "#b8e186"
            ],
            [
             0.8,
             "#7fbc41"
            ],
            [
             0.9,
             "#4d9221"
            ],
            [
             1,
             "#276419"
            ]
           ],
           "sequential": [
            [
             0,
             "#0d0887"
            ],
            [
             0.1111111111111111,
             "#46039f"
            ],
            [
             0.2222222222222222,
             "#7201a8"
            ],
            [
             0.3333333333333333,
             "#9c179e"
            ],
            [
             0.4444444444444444,
             "#bd3786"
            ],
            [
             0.5555555555555556,
             "#d8576b"
            ],
            [
             0.6666666666666666,
             "#ed7953"
            ],
            [
             0.7777777777777778,
             "#fb9f3a"
            ],
            [
             0.8888888888888888,
             "#fdca26"
            ],
            [
             1,
             "#f0f921"
            ]
           ],
           "sequentialminus": [
            [
             0,
             "#0d0887"
            ],
            [
             0.1111111111111111,
             "#46039f"
            ],
            [
             0.2222222222222222,
             "#7201a8"
            ],
            [
             0.3333333333333333,
             "#9c179e"
            ],
            [
             0.4444444444444444,
             "#bd3786"
            ],
            [
             0.5555555555555556,
             "#d8576b"
            ],
            [
             0.6666666666666666,
             "#ed7953"
            ],
            [
             0.7777777777777778,
             "#fb9f3a"
            ],
            [
             0.8888888888888888,
             "#fdca26"
            ],
            [
             1,
             "#f0f921"
            ]
           ]
          },
          "colorway": [
           "#636efa",
           "#EF553B",
           "#00cc96",
           "#ab63fa",
           "#FFA15A",
           "#19d3f3",
           "#FF6692",
           "#B6E880",
           "#FF97FF",
           "#FECB52"
          ],
          "font": {
           "color": "#2a3f5f"
          },
          "geo": {
           "bgcolor": "white",
           "lakecolor": "white",
           "landcolor": "#E5ECF6",
           "showlakes": true,
           "showland": true,
           "subunitcolor": "white"
          },
          "hoverlabel": {
           "align": "left"
          },
          "hovermode": "closest",
          "mapbox": {
           "style": "light"
          },
          "paper_bgcolor": "white",
          "plot_bgcolor": "#E5ECF6",
          "polar": {
           "angularaxis": {
            "gridcolor": "white",
            "linecolor": "white",
            "ticks": ""
           },
           "bgcolor": "#E5ECF6",
           "radialaxis": {
            "gridcolor": "white",
            "linecolor": "white",
            "ticks": ""
           }
          },
          "scene": {
           "xaxis": {
            "backgroundcolor": "#E5ECF6",
            "gridcolor": "white",
            "gridwidth": 2,
            "linecolor": "white",
            "showbackground": true,
            "ticks": "",
            "zerolinecolor": "white"
           },
           "yaxis": {
            "backgroundcolor": "#E5ECF6",
            "gridcolor": "white",
            "gridwidth": 2,
            "linecolor": "white",
            "showbackground": true,
            "ticks": "",
            "zerolinecolor": "white"
           },
           "zaxis": {
            "backgroundcolor": "#E5ECF6",
            "gridcolor": "white",
            "gridwidth": 2,
            "linecolor": "white",
            "showbackground": true,
            "ticks": "",
            "zerolinecolor": "white"
           }
          },
          "shapedefaults": {
           "line": {
            "color": "#2a3f5f"
           }
          },
          "ternary": {
           "aaxis": {
            "gridcolor": "white",
            "linecolor": "white",
            "ticks": ""
           },
           "baxis": {
            "gridcolor": "white",
            "linecolor": "white",
            "ticks": ""
           },
           "bgcolor": "#E5ECF6",
           "caxis": {
            "gridcolor": "white",
            "linecolor": "white",
            "ticks": ""
           }
          },
          "title": {
           "x": 0.05
          },
          "xaxis": {
           "automargin": true,
           "gridcolor": "white",
           "linecolor": "white",
           "ticks": "",
           "title": {
            "standoff": 15
           },
           "zerolinecolor": "white",
           "zerolinewidth": 2
          },
          "yaxis": {
           "automargin": true,
           "gridcolor": "white",
           "linecolor": "white",
           "ticks": "",
           "title": {
            "standoff": 15
           },
           "zerolinecolor": "white",
           "zerolinewidth": 2
          }
         }
        },
        "title": {
         "text": "Most Used Shipping Method by Category"
        }
       }
      },
      "image/png": "[encoded data removed]",
      "text/html": [
       "<div>                            <div id=\"2ad4f9d5-0dee-4a32-a0d3-ff2da5022229\" class=\"plotly-graph-div\" style=\"height:525px; width:100%;\"></div>            <script type=\"text/javascript\">                require([\"plotly\"], function(Plotly) {                    window.PLOTLYENV=window.PLOTLYENV || {};                                    if (document.getElementById(\"2ad4f9d5-0dee-4a32-a0d3-ff2da5022229\")) {                    Plotly.newPlot(                        \"2ad4f9d5-0dee-4a32-a0d3-ff2da5022229\",                        [{\"branchvalues\":\"total\",\"customdata\":[[214],[198],[198],[204],[179],[189],[184],[194],[207],[206],[212],[199],[199],[227],[191],[615],[581],[591],[638],[576]],\"domain\":{\"x\":[0.0,1.0],\"y\":[0.0,1.0]},\"hovertemplate\":\"labels=%{label}\\u003cbr\\u003eCount=%{customdata[0]}\\u003cbr\\u003eparent=%{parent}\\u003cbr\\u003eid=%{id}\\u003cextra\\u003e\\u003c\\u002fextra\\u003e\",\"ids\":[\"Clothing\\u002fAir\",\"Electronics\\u002fAir\",\"Furniture\\u002fAir\",\"Machinery\\u002fAir\",\"Toys\\u002fAir\",\"Clothing\\u002fLand\",\"Electronics\\u002fLand\",\"Furniture\\u002fLand\",\"Machinery\\u002fLand\",\"Toys\\u002fLand\",\"Clothing\\u002fSea\",\"Electronics\\u002fSea\",\"Furniture\\u002fSea\",\"Machinery\\u002fSea\",\"Toys\\u002fSea\",\"Clothing\",\"Electronics\",\"Furniture\",\"Machinery\",\"Toys\"],\"labels\":[\"Air\",\"Air\",\"Air\",\"Air\",\"Air\",\"Land\",\"Land\",\"Land\",\"Land\",\"Land\",\"Sea\",\"Sea\",\"Sea\",\"Sea\",\"Sea\",\"Clothing\",\"Electronics\",\"Furniture\",\"Machinery\",\"Toys\"],\"name\":\"\",\"parents\":[\"Clothing\",\"Electronics\",\"Furniture\",\"Machinery\",\"Toys\",\"Clothing\",\"Electronics\",\"Furniture\",\"Machinery\",\"Toys\",\"Clothing\",\"Electronics\",\"Furniture\",\"Machinery\",\"Toys\",\"\",\"\",\"\",\"\",\"\"],\"values\":[214,198,198,204,179,189,184,194,207,206,212,199,199,227,191,615,581,591,638,576],\"type\":\"sunburst\",\"textinfo\":\"label+value\"}],                        {\"template\":{\"data\":{\"histogram2dcontour\":[{\"type\":\"histogram2dcontour\",\"colorbar\":{\"outlinewidth\":0,\"ticks\":\"\"},\"colorscale\":[[0.0,\"#0d0887\"],[0.1111111111111111,\"#46039f\"],[0.2222222222222222,\"#7201a8\"],[0.3333333333333333,\"#9c179e\"],[0.4444444444444444,\"#bd3786\"],[0.5555555555555556,\"#d8576b\"],[0.6666666666666666,\"#ed7953\"],[0.7777777777777778,\"#fb9f3a\"],[0.8888888888888888,\"#fdca26\"],[1.0,\"#f0f921\"]]}],\"choropleth\":[{\"type\":\"choropleth\",\"colorbar\":{\"outlinewidth\":0,\"ticks\":\"\"}}],\"histogram2d\":[{\"type\":\"histogram2d\",\"colorbar\":{\"outlinewidth\":0,\"ticks\":\"\"},\"colorscale\":[[0.0,\"#0d0887\"],[0.1111111111111111,\"#46039f\"],[0.2222222222222222,\"#7201a8\"],[0.3333333333333333,\"#9c179e\"],[0.4444444444444444,\"#bd3786\"],[0.5555555555555556,\"#d8576b\"],[0.6666666666666666,\"#ed7953\"],[0.7777777777777778,\"#fb9f3a\"],[0.8888888888888888,\"#fdca26\"],[1.0,\"#f0f921\"]]}],\"heatmap\":[{\"type\":\"heatmap\",\"colorbar\":{\"outlinewidth\":0,\"ticks\":\"\"},\"colorscale\":[[0.0,\"#0d0887\"],[0.1111111111111111,\"#46039f\"],[0.2222222222222222,\"#7201a8\"],[0.3333333333333333,\"#9c179e\"],[0.4444444444444444,\"#bd3786\"],[0.5555555555555556,\"#d8576b\"],[0.6666666666666666,\"#ed7953\"],[0.7777777777777778,\"#fb9f3a\"],[0.8888888888888888,\"#fdca26\"],[1.0,\"#f0f921\"]]}],\"heatmapgl\":[{\"type\":\"heatmapgl\",\"colorbar\":{\"outlinewidth\":0,\"ticks\":\"\"},\"colorscale\":[[0.0,\"#0d0887\"],[0.1111111111111111,\"#46039f\"],[0.2222222222222222,\"#7201a8\"],[0.3333333333333333,\"#9c179e\"],[0.4444444444444444,\"#bd3786\"],[0.5555555555555556,\"#d8576b\"],[0.6666666666666666,\"#ed7953\"],[0.7777777777777778,\"#fb9f3a\"],[0.8888888888888888,\"#fdca26\"],[1.0,\"#f0f921\"]]}],\"contourcarpet\":[{\"type\":\"contourcarpet\",\"colorbar\":{\"outlinewidth\":0,\"ticks\":\"\"}}],\"contour\":[{\"type\":\"contour\",\"colorbar\":{\"outlinewidth\":0,\"ticks\":\"\"},\"colorscale\":[[0.0,\"#0d0887\"],[0.1111111111111111,\"#46039f\"],[0.2222222222222222,\"#7201a8\"],[0.3333333333333333,\"#9c179e\"],[0.4444444444444444,\"#bd3786\"],[0.5555555555555556,\"#d8576b\"],[0.6666666666666666,\"#ed7953\"],[0.7777777777777778,\"#fb9f3a\"],[0.8888888888888888,\"#fdca26\"],[1.0,\"#f0f921\"]]}],\"surface\":[{\"type\":\"surface\",\"colorbar\":{\"outlinewidth\":0,\"ticks\":\"\"},\"colorscale\":[[0.0,\"#0d0887\"],[0.1111111111111111,\"#46039f\"],[0.2222222222222222,\"#7201a8\"],[0.3333333333333333,\"#9c179e\"],[0.4444444444444444,\"#bd3786\"],[0.5555555555555556,\"#d8576b\"],[0.6666666666666666,\"#ed7953\"],[0.7777777777777778,\"#fb9f3a\"],[0.8888888888888888,\"#fdca26\"],[1.0,\"#f0f921\"]]}],\"mesh3d\":[{\"type\":\"mesh3d\",\"colorbar\":{\"outlinewidth\":0,\"ticks\":\"\"}}],\"scatter\":[{\"fillpattern\":{\"fillmode\":\"overlay\",\"size\":10,\"solidity\":0.2},\"type\":\"scatter\"}],\"parcoords\":[{\"type\":\"parcoords\",\"line\":{\"colorbar\":{\"outlinewidth\":0,\"ticks\":\"\"}}}],\"scatterpolargl\":[{\"type\":\"scatterpolargl\",\"marker\":{\"colorbar\":{\"outlinewidth\":0,\"ticks\":\"\"}}}],\"bar\":[{\"error_x\":{\"color\":\"#2a3f5f\"},\"error_y\":{\"color\":\"#2a3f5f\"},\"marker\":{\"line\":{\"color\":\"#E5ECF6\",\"width\":0.5},\"pattern\":{\"fillmode\":\"overlay\",\"size\":10,\"solidity\":0.2}},\"type\":\"bar\"}],\"scattergeo\":[{\"type\":\"scattergeo\",\"marker\":{\"colorbar\":{\"outlinewidth\":0,\"ticks\":\"\"}}}],\"scatterpolar\":[{\"type\":\"scatterpolar\",\"marker\":{\"colorbar\":{\"outlinewidth\":0,\"ticks\":\"\"}}}],\"histogram\":[{\"marker\":{\"pattern\":{\"fillmode\":\"overlay\",\"size\":10,\"solidity\":0.2}},\"type\":\"histogram\"}],\"scattergl\":[{\"type\":\"scattergl\",\"marker\":{\"colorbar\":{\"outlinewidth\":0,\"ticks\":\"\"}}}],\"scatter3d\":[{\"type\":\"scatter3d\",\"line\":{\"colorbar\":{\"outlinewidth\":0,\"ticks\":\"\"}},\"marker\":{\"colorbar\":{\"outlinewidth\":0,\"ticks\":\"\"}}}],\"scattermapbox\":[{\"type\":\"scattermapbox\",\"marker\":{\"colorbar\":{\"outlinewidth\":0,\"ticks\":\"\"}}}],\"scatterternary\":[{\"type\":\"scatterternary\",\"marker\":{\"colorbar\":{\"outlinewidth\":0,\"ticks\":\"\"}}}],\"scattercarpet\":[{\"type\":\"scattercarpet\",\"marker\":{\"colorbar\":{\"outlinewidth\":0,\"ticks\":\"\"}}}],\"carpet\":[{\"aaxis\":{\"endlinecolor\":\"#2a3f5f\",\"gridcolor\":\"white\",\"linecolor\":\"white\",\"minorgridcolor\":\"white\",\"startlinecolor\":\"#2a3f5f\"},\"baxis\":{\"endlinecolor\":\"#2a3f5f\",\"gridcolor\":\"white\",\"linecolor\":\"white\",\"minorgridcolor\":\"white\",\"startlinecolor\":\"#2a3f5f\"},\"type\":\"carpet\"}],\"table\":[{\"cells\":{\"fill\":{\"color\":\"#EBF0F8\"},\"line\":{\"color\":\"white\"}},\"header\":{\"fill\":{\"color\":\"#C8D4E3\"},\"line\":{\"color\":\"white\"}},\"type\":\"table\"}],\"barpolar\":[{\"marker\":{\"line\":{\"color\":\"#E5ECF6\",\"width\":0.5},\"pattern\":{\"fillmode\":\"overlay\",\"size\":10,\"solidity\":0.2}},\"type\":\"barpolar\"}],\"pie\":[{\"automargin\":true,\"type\":\"pie\"}]},\"layout\":{\"autotypenumbers\":\"strict\",\"colorway\":[\"#636efa\",\"#EF553B\",\"#00cc96\",\"#ab63fa\",\"#FFA15A\",\"#19d3f3\",\"#FF6692\",\"#B6E880\",\"#FF97FF\",\"#FECB52\"],\"font\":{\"color\":\"#2a3f5f\"},\"hovermode\":\"closest\",\"hoverlabel\":{\"align\":\"left\"},\"paper_bgcolor\":\"white\",\"plot_bgcolor\":\"#E5ECF6\",\"polar\":{\"bgcolor\":\"#E5ECF6\",\"angularaxis\":{\"gridcolor\":\"white\",\"linecolor\":\"white\",\"ticks\":\"\"},\"radialaxis\":{\"gridcolor\":\"white\",\"linecolor\":\"white\",\"ticks\":\"\"}},\"ternary\":{\"bgcolor\":\"#E5ECF6\",\"aaxis\":{\"gridcolor\":\"white\",\"linecolor\":\"white\",\"ticks\":\"\"},\"baxis\":{\"gridcolor\":\"white\",\"linecolor\":\"white\",\"ticks\":\"\"},\"caxis\":{\"gridcolor\":\"white\",\"linecolor\":\"white\",\"ticks\":\"\"}},\"coloraxis\":{\"colorbar\":{\"outlinewidth\":0,\"ticks\":\"\"}},\"colorscale\":{\"sequential\":[[0.0,\"#0d0887\"],[0.1111111111111111,\"#46039f\"],[0.2222222222222222,\"#7201a8\"],[0.3333333333333333,\"#9c179e\"],[0.4444444444444444,\"#bd3786\"],[0.5555555555555556,\"#d8576b\"],[0.6666666666666666,\"#ed7953\"],[0.7777777777777778,\"#fb9f3a\"],[0.8888888888888888,\"#fdca26\"],[1.0,\"#f0f921\"]],\"sequentialminus\":[[0.0,\"#0d0887\"],[0.1111111111111111,\"#46039f\"],[0.2222222222222222,\"#7201a8\"],[0.3333333333333333,\"#9c179e\"],[0.4444444444444444,\"#bd3786\"],[0.5555555555555556,\"#d8576b\"],[0.6666666666666666,\"#ed7953\"],[0.7777777777777778,\"#fb9f3a\"],[0.8888888888888888,\"#fdca26\"],[1.0,\"#f0f921\"]],\"diverging\":[[0,\"#8e0152\"],[0.1,\"#c51b7d\"],[0.2,\"#de77ae\"],[0.3,\"#f1b6da\"],[0.4,\"#fde0ef\"],[0.5,\"#f7f7f7\"],[0.6,\"#e6f5d0\"],[0.7,\"#b8e186\"],[0.8,\"#7fbc41\"],[0.9,\"#4d9221\"],[1,\"#276419\"]]},\"xaxis\":{\"gridcolor\":\"white\",\"linecolor\":\"white\",\"ticks\":\"\",\"title\":{\"standoff\":15},\"zerolinecolor\":\"white\",\"automargin\":true,\"zerolinewidth\":2},\"yaxis\":{\"gridcolor\":\"white\",\"linecolor\":\"white\",\"ticks\":\"\",\"title\":{\"standoff\":15},\"zerolinecolor\":\"white\",\"automargin\":true,\"zerolinewidth\":2},\"scene\":{\"xaxis\":{\"backgroundcolor\":\"#E5ECF6\",\"gridcolor\":\"white\",\"linecolor\":\"white\",\"showbackground\":true,\"ticks\":\"\",\"zerolinecolor\":\"white\",\"gridwidth\":2},\"yaxis\":{\"backgroundcolor\":\"#E5ECF6\",\"gridcolor\":\"white\",\"linecolor\":\"white\",\"showbackground\":true,\"ticks\":\"\",\"zerolinecolor\":\"white\",\"gridwidth\":2},\"zaxis\":{\"backgroundcolor\":\"#E5ECF6\",\"gridcolor\":\"white\",\"linecolor\":\"white\",\"showbackground\":true,\"ticks\":\"\",\"zerolinecolor\":\"white\",\"gridwidth\":2}},\"shapedefaults\":{\"line\":{\"color\":\"#2a3f5f\"}},\"annotationdefaults\":{\"arrowcolor\":\"#2a3f5f\",\"arrowhead\":0,\"arrowwidth\":1},\"geo\":{\"bgcolor\":\"white\",\"landcolor\":\"#E5ECF6\",\"subunitcolor\":\"white\",\"showland\":true,\"showlakes\":true,\"lakecolor\":\"white\"},\"title\":{\"x\":0.05},\"mapbox\":{\"style\":\"light\"}}},\"legend\":{\"tracegroupgap\":0},\"title\":{\"text\":\"Most Used Shipping Method by Category\"}},                        {\"responsive\": true}                    ).then(function(){\n",
       "                            \n",
       "var gd = document.getElementById('2ad4f9d5-0dee-4a32-a0d3-ff2da5022229');\n",
       "var x = new MutationObserver(function (mutations, observer) {{\n",
       "        var display = window.getComputedStyle(gd).display;\n",
       "        if (!display || display === 'none') {{\n",
       "            console.log([gd, 'removed!']);\n",
       "            Plotly.purge(gd);\n",
       "            observer.disconnect();\n",
       "        }}\n",
       "}});\n",
       "\n",
       "// Listen for the removal of the full notebook cells\n",
       "var notebookContainer = gd.closest('#notebook-container');\n",
       "if (notebookContainer) {{\n",
       "    x.observe(notebookContainer, {childList: true});\n",
       "}}\n",
       "\n",
       "// Listen for the clearing of the current output cell\n",
       "var outputEl = gd.closest('.output');\n",
       "if (outputEl) {{\n",
       "    x.observe(outputEl, {childList: true});\n",
       "}}\n",
       "\n",
       "                        })                };                });            </script>        </div>"
      ]
     },
     "metadata": {},
     "output_type": "display_data"
    }
   ],
   "source": [
    "import plotly.express as px\n",
    "\n",
    "# Calculating the count of shipping methods by category\n",
    "shipping_method_counts = sdset.groupby(['Category', 'Shipping_Method']).size().reset_index(name='Count')\n",
    "\n",
    "# Creating a sunburst chart with values\n",
    "fig = px.sunburst(\n",
    "    shipping_method_counts, \n",
    "    path=['Category', 'Shipping_Method'], \n",
    "    values='Count', \n",
    "    title='Most Used Shipping Method by Category',\n",
    "    hover_data=['Count']  # Show count on hover\n",
    ")\n",
    "\n",
    "# Updating the layout to include text values in the sunburst\n",
    "fig.update_traces(textinfo='label+value')  # Display label and value in the sunburst chart\n",
    "\n",
    "# Show the plot\n",
    "fig.show()"
   ]
  },
  {
   "cell_type": "code",
   "execution_count": null,
   "id": "b929a82c-4e06-4c3f-aef0-32681ae2a1bc",
   "metadata": {},
   "outputs": [],
   "source": []
  }
 ],
 "metadata": {
  "kernelspec": {
   "display_name": "Python 3 (ipykernel)",
   "language": "python",
   "name": "python3"
  },
  "language_info": {
   "codemirror_mode": {
    "name": "ipython",
    "version": 3
   },
   "file_extension": ".py",
   "mimetype": "text/x-python",
   "name": "python",
   "nbconvert_exporter": "python",
   "pygments_lexer": "ipython3",
   "version": "3.12.4"
  }
 },
 "nbformat": 4,
 "nbformat_minor": 5
}
